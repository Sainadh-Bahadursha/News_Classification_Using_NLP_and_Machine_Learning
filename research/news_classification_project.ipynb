{
 "cells": [
  {
   "cell_type": "markdown",
   "metadata": {},
   "source": [
    "# INTRODUCTION TO THE PROBLEM AND DATASET"
   ]
  },
  {
   "cell_type": "markdown",
   "metadata": {},
   "source": [
    "## PROBLEM STATEMENT"
   ]
  },
  {
   "cell_type": "markdown",
   "metadata": {},
   "source": [
    "> Over the years, inflation in India has averaged around 6%, yet many people still prefer traditional investment options like `Fixed Deposits (FDs) and Recurring Deposits (RDs), which often yield returns lower than inflation`. A common perception among Indians is that capital markets and investments are complex, requiring advanced financial knowledge. As a result, many `hesitate to explore stock markets and other investment opportunities, limiting their financial growth`.  \n",
    "\n",
    "> To address this gap, a tech-driven platform was launched in 2020 with the goal of `simplifying finance and making investment decisions more accessible`. Using `artificial intelligence (AI) and machine learning (ML)`, the platform provides `smart news discovery, real-time stock insights, and a social community for discussions`. By delivering curated financial information in an easy-to-understand format, it empowers users—especially first-time investors—to make informed decisions with minimal effort."
   ]
  },
  {
   "cell_type": "markdown",
   "metadata": {},
   "source": [
    "## OBJECTIVE OF THE PROJECT"
   ]
  },
  {
   "cell_type": "markdown",
   "metadata": {},
   "source": [
    "> The goal of this project is to classify news articles into categories like `politics, technology, sports, business, and entertainment` using `Natural Language Processing (NLP) and Machine Learning (ML)`. The project involves text preprocessing, feature extraction, and training multiple classification models.\n",
    "\n",
    "> At least three different models, including `Naïve Bayes, Decision Tree, and Random Forest`, will be implemented and compared to determine the best-performing approach."
   ]
  },
  {
   "cell_type": "markdown",
   "metadata": {},
   "source": [
    "## IMPORT ALL THE REQUIRED LIBRARIES"
   ]
  },
  {
   "cell_type": "code",
   "execution_count": 67,
   "metadata": {},
   "outputs": [
    {
     "name": "stderr",
     "output_type": "stream",
     "text": [
      "[nltk_data] Downloading package punkt to\n",
      "[nltk_data]     C:\\Users\\saina\\AppData\\Roaming\\nltk_data...\n",
      "[nltk_data]   Package punkt is already up-to-date!\n",
      "[nltk_data] Downloading package punkt_tab to\n",
      "[nltk_data]     C:\\Users\\saina\\AppData\\Roaming\\nltk_data...\n",
      "[nltk_data]   Package punkt_tab is already up-to-date!\n",
      "[nltk_data] Downloading package wordnet to\n",
      "[nltk_data]     C:\\Users\\saina\\AppData\\Roaming\\nltk_data...\n",
      "[nltk_data]   Package wordnet is already up-to-date!\n",
      "[nltk_data] Downloading package omw-1.4 to\n",
      "[nltk_data]     C:\\Users\\saina\\AppData\\Roaming\\nltk_data...\n",
      "[nltk_data]   Package omw-1.4 is already up-to-date!\n",
      "[nltk_data] Downloading package averaged_perceptron_tagger to\n",
      "[nltk_data]     C:\\Users\\saina\\AppData\\Roaming\\nltk_data...\n",
      "[nltk_data]   Package averaged_perceptron_tagger is already up-to-\n",
      "[nltk_data]       date!\n",
      "[nltk_data] Downloading package tagsets to\n",
      "[nltk_data]     C:\\Users\\saina\\AppData\\Roaming\\nltk_data...\n",
      "[nltk_data]   Package tagsets is already up-to-date!\n",
      "[nltk_data] Downloading package universal_tagset to\n",
      "[nltk_data]     C:\\Users\\saina\\AppData\\Roaming\\nltk_data...\n",
      "[nltk_data]   Package universal_tagset is already up-to-date!\n",
      "[nltk_data] Downloading package treebank to\n",
      "[nltk_data]     C:\\Users\\saina\\AppData\\Roaming\\nltk_data...\n",
      "[nltk_data]   Package treebank is already up-to-date!\n",
      "[nltk_data] Downloading package stopwords to\n",
      "[nltk_data]     C:\\Users\\saina\\AppData\\Roaming\\nltk_data...\n",
      "[nltk_data]   Package stopwords is already up-to-date!\n",
      "[nltk_data] Downloading package wordnet to\n",
      "[nltk_data]     C:\\Users\\saina\\AppData\\Roaming\\nltk_data...\n",
      "[nltk_data]   Package wordnet is already up-to-date!\n"
     ]
    }
   ],
   "source": [
    "# To ignore all warnings\n",
    "import warnings\n",
    "\n",
    "# for creating random numbers\n",
    "import random\n",
    "\n",
    "# for string operations\n",
    "import string\n",
    "\n",
    "# for permutations and combinations\n",
    "import itertools\n",
    "\n",
    "# for proper display of dataframes and images\n",
    "from IPython.display import display\n",
    "from PIL import Image\n",
    "\n",
    "# For reading & manipulating the data\n",
    "import pandas as pd\n",
    "import numpy as np\n",
    "\n",
    "# For visualizing the data\n",
    "import matplotlib.pyplot as plt\n",
    "import seaborn as sns\n",
    "import plotly.express as px\n",
    "from pprint import pprint\n",
    "from sklearn.manifold import TSNE\n",
    "\n",
    "# To use Regular Expressions\n",
    "import re\n",
    "\n",
    "# To display progress bars\n",
    "from tqdm.notebook import tqdm\n",
    "\n",
    "# To use Natural Language Processing\n",
    "import nltk\n",
    "import spacy\n",
    "\n",
    "# For tokenization\n",
    "from nltk.tokenize import word_tokenize,sent_tokenize,TweetTokenizer\n",
    "nltk.download('punkt')\n",
    "nltk.download('punkt_tab')\n",
    "nltk.download('wordnet')\n",
    "nltk.download('omw-1.4')\n",
    "nltk.download('averaged_perceptron_tagger')\n",
    "nltk.download('tagsets')\n",
    "nltk.download('universal_tagset')\n",
    "nltk.download('treebank')\n",
    "\n",
    "# to expand contractions\n",
    "import contractions\n",
    "\n",
    "# To remove stopwords\n",
    "from nltk.corpus import stopwords\n",
    "nltk.download('stopwords')\n",
    "\n",
    "# for stemming\n",
    "from nltk.stem import PorterStemmer,LancasterStemmer,SnowballStemmer\n",
    "# For lemmetization\n",
    "from nltk import WordNetLemmatizer\n",
    "nltk.download('wordnet')\n",
    "\n",
    "# For BoW & TF-IDF\n",
    "from sklearn.feature_extraction.text import CountVectorizer, TfidfVectorizer\n",
    "\n",
    "# For encoding the categorical variable\n",
    "import category_encoders as ce\n",
    "from sklearn.preprocessing import LabelEncoder,OneHotEncoder\n",
    "\n",
    "# To try out different ML models\n",
    "from sklearn.tree import DecisionTreeClassifier\n",
    "from sklearn.neighbors import KNeighborsClassifier\n",
    "from sklearn.naive_bayes import MultinomialNB\n",
    "from sklearn.ensemble import RandomForestClassifier\n",
    "\n",
    "# To perform train-test split\n",
    "from sklearn.model_selection import train_test_split\n",
    "\n",
    "# Performace Metrics for evaluating the model\n",
    "from sklearn.metrics import accuracy_score, roc_auc_score, f1_score, precision_score, recall_score\n",
    "from sklearn.metrics import confusion_matrix, classification_report\n",
    "\n",
    "# Named Entity Recognition\n",
    "from spacy import displacy\n",
    " \n",
    "warnings.simplefilter('ignore')"
   ]
  },
  {
   "cell_type": "markdown",
   "metadata": {},
   "source": [
    "## IMPORT DATASET"
   ]
  },
  {
   "cell_type": "code",
   "execution_count": 2,
   "metadata": {},
   "outputs": [],
   "source": [
    "data = pd.read_csv(r\"C:\\Users\\saina\\Desktop\\DS_ML_AI\\Scaler\\Module_21_NLP\\Case_studies\\other\\news-data.csv\")"
   ]
  },
  {
   "cell_type": "code",
   "execution_count": 3,
   "metadata": {},
   "outputs": [
    {
     "data": {
      "text/html": [
       "<div>\n",
       "<style scoped>\n",
       "    .dataframe tbody tr th:only-of-type {\n",
       "        vertical-align: middle;\n",
       "    }\n",
       "\n",
       "    .dataframe tbody tr th {\n",
       "        vertical-align: top;\n",
       "    }\n",
       "\n",
       "    .dataframe thead th {\n",
       "        text-align: right;\n",
       "    }\n",
       "</style>\n",
       "<table border=\"1\" class=\"dataframe\">\n",
       "  <thead>\n",
       "    <tr style=\"text-align: right;\">\n",
       "      <th></th>\n",
       "      <th>Category</th>\n",
       "      <th>Article</th>\n",
       "    </tr>\n",
       "  </thead>\n",
       "  <tbody>\n",
       "    <tr>\n",
       "      <th>414</th>\n",
       "      <td>Politics</td>\n",
       "      <td>brown and blair face new rift claims for the u...</td>\n",
       "    </tr>\n",
       "    <tr>\n",
       "      <th>420</th>\n",
       "      <td>Business</td>\n",
       "      <td>small firms  hit by rising costs  rising fuel ...</td>\n",
       "    </tr>\n",
       "    <tr>\n",
       "      <th>1644</th>\n",
       "      <td>Entertainment</td>\n",
       "      <td>spirit awards hail sideways the comedy sideway...</td>\n",
       "    </tr>\n",
       "    <tr>\n",
       "      <th>416</th>\n",
       "      <td>Technology</td>\n",
       "      <td>microsoft releases patches microsoft has warne...</td>\n",
       "    </tr>\n",
       "    <tr>\n",
       "      <th>1232</th>\n",
       "      <td>Sports</td>\n",
       "      <td>arsenal through on penalties arsenal win 4-2 o...</td>\n",
       "    </tr>\n",
       "    <tr>\n",
       "      <th>1544</th>\n",
       "      <td>Business</td>\n",
       "      <td>jobs go at oracle after takeover oracle has an...</td>\n",
       "    </tr>\n",
       "    <tr>\n",
       "      <th>1748</th>\n",
       "      <td>Business</td>\n",
       "      <td>id theft surge hits us consumers almost a quar...</td>\n",
       "    </tr>\n",
       "    <tr>\n",
       "      <th>1264</th>\n",
       "      <td>Sports</td>\n",
       "      <td>poll explains free-kick decision referee graha...</td>\n",
       "    </tr>\n",
       "    <tr>\n",
       "      <th>629</th>\n",
       "      <td>Sports</td>\n",
       "      <td>parmar ruled out of davis cup tie a knee injur...</td>\n",
       "    </tr>\n",
       "    <tr>\n",
       "      <th>1043</th>\n",
       "      <td>Technology</td>\n",
       "      <td>video phones act as dating tools technologies ...</td>\n",
       "    </tr>\n",
       "  </tbody>\n",
       "</table>\n",
       "</div>"
      ],
      "text/plain": [
       "           Category                                            Article\n",
       "414        Politics  brown and blair face new rift claims for the u...\n",
       "420        Business  small firms  hit by rising costs  rising fuel ...\n",
       "1644  Entertainment  spirit awards hail sideways the comedy sideway...\n",
       "416      Technology  microsoft releases patches microsoft has warne...\n",
       "1232         Sports  arsenal through on penalties arsenal win 4-2 o...\n",
       "1544       Business  jobs go at oracle after takeover oracle has an...\n",
       "1748       Business  id theft surge hits us consumers almost a quar...\n",
       "1264         Sports  poll explains free-kick decision referee graha...\n",
       "629          Sports  parmar ruled out of davis cup tie a knee injur...\n",
       "1043     Technology  video phones act as dating tools technologies ..."
      ]
     },
     "execution_count": 3,
     "metadata": {},
     "output_type": "execute_result"
    }
   ],
   "source": [
    "data.sample(10,random_state=42)"
   ]
  },
  {
   "cell_type": "markdown",
   "metadata": {},
   "source": [
    "# EDA"
   ]
  },
  {
   "cell_type": "markdown",
   "metadata": {},
   "source": [
    "## TOTAL NUMBER OF NEWS ARTICLES "
   ]
  },
  {
   "cell_type": "code",
   "execution_count": 4,
   "metadata": {},
   "outputs": [
    {
     "name": "stdout",
     "output_type": "stream",
     "text": [
      "No. of news articles: 2225\n"
     ]
    }
   ],
   "source": [
    "print(\"No. of news articles: {}\".format(data.shape[0]))"
   ]
  },
  {
   "cell_type": "markdown",
   "metadata": {},
   "source": [
    "## EXPLORING THE LABELS"
   ]
  },
  {
   "cell_type": "code",
   "execution_count": 5,
   "metadata": {},
   "outputs": [
    {
     "name": "stdout",
     "output_type": "stream",
     "text": [
      "Labels in the dataset:  ['Sports', 'Business', 'Politics', 'Technology', 'Entertainment']\n",
      "Category\n",
      "Sports           511\n",
      "Business         510\n",
      "Politics         417\n",
      "Technology       401\n",
      "Entertainment    386\n",
      "Name: count, dtype: int64\n"
     ]
    },
    {
     "data": {
      "image/png": "[encoded data removed]",
      "text/plain": [
       "<Figure size 600x600 with 1 Axes>"
      ]
     },
     "metadata": {},
     "output_type": "display_data"
    }
   ],
   "source": [
    "def pie_chart(dataframe):\n",
    "    label_counts = dataframe.Category.value_counts()\n",
    "    \n",
    "    print('Labels in the dataset: ', label_counts.index.tolist())\n",
    "    print(label_counts)\n",
    "\n",
    "    labels = label_counts.index  # Corrected: Ensure labels match their counts\n",
    "    sizes = label_counts.values  # Get counts directly\n",
    "    \n",
    "    plt.figure(figsize=(6, 6))\n",
    "    plt.pie(sizes, labels=labels, autopct='%1.1f%%', shadow=True, startangle=90)\n",
    "    plt.axis('equal')  # Keep the pie chart circular\n",
    "    plt.show()\n",
    "\n",
    "pie_chart(data)\n"
   ]
  },
  {
   "cell_type": "markdown",
   "metadata": {},
   "source": [
    "## TRAIN TEST SPLIT"
   ]
  },
  {
   "cell_type": "code",
   "execution_count": 6,
   "metadata": {},
   "outputs": [
    {
     "name": "stdout",
     "output_type": "stream",
     "text": [
      "Size of training dataset: 1780\n",
      "Size of testing dataset: 445\n"
     ]
    }
   ],
   "source": [
    "# Assuming 'data' is already loaded with the 'Category' column\n",
    "# Split the dataset into features (X) and labels (y)\n",
    "X = data['Article'].astype(str)\n",
    "y = data['Category']\n",
    "\n",
    "# Perform 80/20 split with stratification based on the 'Category' column\n",
    "X_train, X_test, y_train, y_test = train_test_split(X, y, test_size=0.2, random_state=42, stratify=y)\n",
    "\n",
    "# Print the size of the training and testing datasets\n",
    "print(f\"Size of training dataset: {len(X_train)}\")\n",
    "print(f\"Size of testing dataset: {len(X_test)}\")\n"
   ]
  },
  {
   "cell_type": "code",
   "execution_count": 7,
   "metadata": {},
   "outputs": [
    {
     "name": "stdout",
     "output_type": "stream",
     "text": [
      "\n",
      "Sports article sample: ireland win eclipses refereeing  errors  the international rugby board may have to step in to stop frustrated coaches and players from publicly haranguing referees when things go belly-up.  it may have to go the whole way and have nfl-style video cameras all over the field  or slap the vociferous perpetrators over the knuckles. what the irb does not want is a football scenario where the verbal slanging matches often overshadow the game itself. sunday s explosive six nations clash at lansdowne road was a good example as ireland took another step towards their first grand slam since 1948. the game was as exciting as it comes  with a much-improved england side enraged at a few decisions that did not go their way. one can understand that frustration. there was no doubt that ireland had the rub of the green in their 19-13 victory  but the reaction from the england camp may not have endeared them to the sport s  blazers . referee jonathan kaplan was not perfect by any means and two decisions in particular made him the villain of the piece. i doubt whether kaplan would have been too pleased at the comments made. after all  he has no public recourse to criticism.  it was the same for simon mcdowell  the touch judge who was heavily criticised by scotland coach matt williams after their defeat against france. as far as england were concerned  there were queries over mark cueto s first half-effort when he went over in the corner from a charlie hodgson kick.  england coach andy robinson referred to a similar case at ravenhill in january when ulster were playing gloucester in the heineken cup. on that occasion  david humphreys kicked to tommy bowe  who touched down in the corner only for the try to be wiped out. but you cannot have cameras at every conceivable angle to pick up such anomalies. perhaps robinson was right to say the referee should have gone upstairs when josh lewsey was driven over the irish line near the end.  lewsey claims he touched it down and was in full control. however  one has to credit ireland flanker johnny o connor for cleverly scooping the ball away and blocking any evidence of a touchdown. but in rugby  everything tends to even out over the 80 minutes. the referee also missed england s danny grewcock taking out ronan o gara off the ball to allow martin corry a sunday stroll to the line. those were the stand-out moments in a classic game between the two old foes.  but there were many more  and one should not take away from those. brian o driscoll s winning try was as well-conceived as they come  while charlie hodgson s brilliant kicking display was another highlight. and ronan o gara s tremendous ability to control the game was also a crucial component. but the defining moments came with ireland under the cosh in the final 15 minutes. two outstanding pieces of defensive play denied england and allowed ireland to hold on. the first was denis hickie s brilliant double tackle in the right-hand corner. he gobbled up cueto from another hodgson cross-field kick  then regained his feet to stop lewsey from scoring a certain try. ireland s second-row colossus paul o connell was equally superb. england had turned ireland one way then the other  and the defence cordon was slowly disintegrating. england prop matt stevens ran in at full steam to suck in a few more tacklers. unfortunately he ran into o connell who hit him hard - very hard - and then wrestled the ball away for a crucial turnover. that spoke volumes about ireland s back-foot display  with defensive coach mike ford taking a bow at the end. to win a game like that showed that ireland have moved forward. it may be tries that win games  but it is defence that wins championships.\n",
      "\n",
      "Business article sample: asia shares defy post-quake gloom thailand has become the first of the 10 southern asian nations battered by giant waves at the weekend to cut its economic forecast.  thailand s economy is now expected to grow by 5.7% in 2005  rather than 6% as forecast before tsunamis hit six tourist provinces. the full economic costs of the disaster remain unclear. in part  this is because of its scale  and because delivering aid and recovering the dead remain priorities. but indonesian  indian and hong kong stock markets reached record highs on wednesday  suggesting that investors do not fear a major economic impact.  the highs showed the gap in outlook between investors in large firms and individuals who have lost their livelihoods.  investors seemed to feel that some of the worst-affected areas - such as aceh in indonesia - were so under-developed that the tragedy would little impact on asia s listed companies  according to analysts.  obviously with a lot of loss of life  a lot of time is needed to clean up the mess  bury the people and find the missing. but it s not necessarily a really big thing in the economic sense   said abn amro chief asian strategist eddie wong. india s bombay stock exchange inched slightly above its previous record close on wednesday. expectations of strong corporate earnings in 2005 drove the indonesian stock exchange in jakarta to a record high on wednesday. in hong kong  the hang seng index may be benefiting in part from the potential for its listed property companies to gain from rebuilding contracts in the tsunami-affected regions of south east asia. in sri lanka  some economists have said that as much as 1% of annual growth may be lost. sri lanka s stock market has fallen about 5% since the weekend  but it is still 40% higher than at the start of 2004.  thailand may lose 30bn baht (£398m; $768m) in earnings from tourism over the next three months  according to tourism minister sontaya kunplome.  in the affected provinces  he expects the loss of tourism revenue to be offset by government reconstruction spending. thailand intends to spend a similar sum - around 30bn baht - on the rebuilding work.  it will take until the fourth quarter of next year before tourist visitors in phuket and five other provinces return to their normal level   said naris chaiyasoot  director general at the ministry s fiscal policy office. in the maldives the cost of reconstruction could wipe out economic growth  according to a government spokesman.  our nation is in peril here   said ahmed shaheed  the chief government spokesman. he estimated the economic cost of the disaster at hundreds of millions of dollars. the maldives has gross domestic product of $660m.  it won t be surprising if the cost exceeds our gdp   he said.  in the last few years  we made great progress in our standard of living - the united nations recognised this. now we see this can disappear in a few days  a few minutes.  shaheed noted that investment in a single tourist resort - the economic mainstay - could run to $40m. between 10 and 12 of the 80-odd resorts have been severely damaged  and a similar number have suffered significant damage. however  many experts  including the world bank  have pointed out that it is still difficult to assess the magnitude of the disaster and its likely economic impact.\n",
      "\n",
      "Politics article sample: concerns at school diploma plan final appeals are being made for the government not to ditch the reform plan for england s secondary schools put forward by the tomlinson report.  the government s response to the plan for a four-tier diploma to replace all existing 14-19 qualifications is expected next week. some are worried it could be scuppered if  as tony blair and ruth kelly have suggested  gcses and a-levels stay. sir mike tomlinson himself was briefed only this week. he is said to be feeling more comfortable about what the government is likely to say than if he had read only what was in newspapers in the earlier part of the week. but the government was said to be still rewriting its response on friday.  it will be a tragedy if the government comes through with a half-hearted response   said the chairman of the commons education select committee  labour mp barry sheerman.  his main concern was the reports that there would be a diploma - but only to replace existing vocational qualifications.  we must tackle head-on the structural mess that is our secondary education system   he wrote in the times educational supplement.  it is not the case that the academic stream in secondary is fine while the vocational route is desperately weak.  the qualifications and curriculum authority (qca) has also told the government not to  compromise . the qca said the potential  step-change in participation and attainment  lay in the integrity of the whole diploma.  any partial implementation of the proposals would  in our view  compromise that integrity   said its chairman  sir anthony greener. it is a sign of the qca s concern that its advice went to ministers last december but was publicised only recently. but people understand that a white paper response is government policy and has to command wider ministerial support than if it were coming only from the department for education and skills. they may be content if it does not  close too many doors  in writing - whatever spin is put on it.  the chief inspector of schools  david bell  also said recently that gcses and a-levels should go.  one of the reasons why i m so strongly in favour of these terms disappearing over time is that it s good for the symbols of change to be seen right across the system   he said.  if we don t say this is a sea-change in education  we will miss a great opportunity.  universities and head teachers in both the independent and state sectors have also backed the tomlinson proposals  which include having higher grades at advanced level to differentiate between the brightest students. a note of concern has been expressed repeatedly by the employers  organisation  the cbi  which complains of a lack of skills. in an attempt to address this  the tomlinson plan is for tests in  functional  maths and literacy - decidedly not gcses. it has been suggested the government will take steps of some sort to meet firms  concerns on this score. another dissenter is sir mike tomlinson s predecessor as chief schools inspector  professor chris woodhead  who has said there is no need for such a  massive upheaval . the conservative party has put forward plans to revert to a system of having only the brightest percentage of students each year getting the top a-level grade  no matter how well the others have done.\n",
      "\n",
      "Technology article sample: hotspot users gain free net calls people using wireless net hotspots will soon be able to make free phone calls as well as surf the net.  wireless provider broadreach and net telephony firm skype are rolling out a service at 350 hotspots around the uk this week. users will need a skype account - downloadable for free - and they will then be able to make net calls via wi-fi without paying for net access. skype allows people to make free pc-based calls to other skype users.  users of the system can also make calls to landlines and mobiles for a fee. the system is gaining in popularity and now has 28 million users around the world. its paid service - dubbed skype out - has so far attracted 940 000 users. it plans to add more paid services with forthcoming launches of video conferencing  voice mail and skype in  a service which would allow users to receive phone calls from landlines and mobiles. london-based software developer connectotel has unveiled software that will expand the sms functions of skype  allowing users to send text messages to mobile phones from the service. broadreach networks has around two million users and hotspots in places such as virgin megastores  the travelodge chain of hotels and all london s major rail terminals. the company is due to launch wi-fi on virgin trains later in the year.  skype s success at spreading the world about internet telephony is well-known and we are delighted to be offering free access to skype users in our hotspots   commented broadreach chief executive magnus mcewen-king.\n",
      "\n",
      "Entertainment article sample: tarantino  to make friday sequel  director quentin tarantino is in talks to write and direct a new instalment in the friday the 13th horror franchise  according to the hollywood reporter.  the film-maker will reportedly meet executives from new line cinema this week to discuss the 12th film in the long-running  stalk and slash  series. the original film  released in 1980  has spawned ten sequels based around mask-wearing murderer jason voorhees. the most recent  freddy vs jason  was released in summer 2003. that film saw jason battle freddy krueger  star of the nightmare on elm street franchise. according to the industry newspaper  new line had been trying to make another sequel involving ash  the hero of the evil dead movies  but was unable to agree terms with director sam raimi. tarantino is said to be intrigued by the prospect of building a new film around one of the horror genre s most recognised figures. first  however  he is scheduled to direct the season finale of us television series csi: crime scene investigation. filming is due to start in early april. tarantino s episode  for which he also wrote the original story  will be broadcast in the us on 19 may.\n"
     ]
    }
   ],
   "source": [
    "print('\\nSports article sample:', X_train[y_train == 'Sports'].sample(1,random_state=42).values[0])\n",
    "print('\\nBusiness article sample:', X_train[y_train == 'Business'].sample(1,random_state=42).values[0])\n",
    "print('\\nPolitics article sample:', X_train[y_train == 'Politics'].sample(1,random_state=42).values[0])\n",
    "print('\\nTechnology article sample:', X_train[y_train == 'Technology'].sample(1,random_state=42).values[0])\n",
    "print('\\nEntertainment article sample:', X_train[y_train == 'Entertainment'].sample(1,random_state=42).values[0])"
   ]
  },
  {
   "cell_type": "markdown",
   "metadata": {},
   "source": [
    "## TOKENIZATION"
   ]
  },
  {
   "cell_type": "markdown",
   "metadata": {},
   "source": [
    "### Word Tokenizer"
   ]
  },
  {
   "cell_type": "code",
   "execution_count": 8,
   "metadata": {},
   "outputs": [
    {
     "name": "stdout",
     "output_type": "stream",
     "text": [
      "Using Split : ['crude', 'oil', 'prices', 'back', 'above', '$50', 'cold', 'weather', 'across', 'parts', 'of', 'the', 'united', 'states', 'and', 'much', 'of', 'europe', 'has', 'pushed', 'us', 'crude', 'oil', 'prices', 'above', '$50', 'a', 'barrel', 'for', 'the', 'first', 'time', 'in', 'almost', 'three', 'months.', 'freezing', 'temperatures', 'and', 'heavy', 'snowfall', 'have', 'increased', 'demand', 'for', 'heating', 'fuel', 'in', 'the', 'us', 'where', 'stocks', 'are', 'low.', 'fresh', 'falls', 'in', 'the', 'value', 'of', 'the', 'dollar', 'helped', 'carry', 'prices', 'above', 'the', '$50', 'mark', 'for', 'the', 'first', 'time', 'since', 'november.', 'a', 'barrel', 'of', 'us', 'crude', 'oil', 'closed', 'up', '$2.80', 'to', '$51.15', 'in', 'new', 'york', 'on', 'tuesday.', 'opec', 'members', 'said', 'on', 'tuesday', 'that', 'it', 'saw', 'no', 'reason', 'to', 'cut', 'its', 'output.', 'although', 'below', 'last', 'year', 's', 'peak', 'of', '$55.67', 'a', 'barrel', 'which', 'was', 'reached', 'in', 'october', 'prices', 'are', 'now', 'well', 'above', '2004', 's', 'average', 'of', '$41.48.', 'brent', 'crude', 'also', 'rose', 'in', 'london', 'trading', 'adding', '$1.89', 'to', '$48.62', 'at', 'the', 'close.', 'much', 'of', 'western', 'europe', 'and', 'the', 'north', 'east', 'of', 'america', 'has', 'been', 'shivering', 'under', 'unseasonably', 'low', 'temperatures', 'in', 'recent', 'days.', 'the', 'decline', 'in', 'the', 'us', 'dollar', 'to', 'a', 'five-week', 'low', 'against', 'the', 'euro', 'has', 'also', 'served', 'to', 'inflate', 'prices.', 'the', 'dollar', 'moved', 'sharply', 'overnight', 'and', 'oil', 'is', 'following', 'it', 'said', 'chris', 'furness', 'senior', 'market', 'strategist', 'at', '4cast.', 'if', 'the', 'dollar', 'continues', 'to', 'weaken', 'oil', 'will', 'be', 'obviously', 'higher.', 'several', 'opec', 'members', 'said', 'a', 'cut', 'in', 'production', 'was', 'unlikely', 'citing', 'rising', 'prices', 'and', 'strong', 'demand', 'for', 'oil', 'from', 'asia.', 'i', 'agree', 'that', 'we', 'do', 'not', 'need', 'to', 'cut', 'supply', 'if', 'the', 'prices', 'are', 'as', 'much', 'as', 'this', 'fathi', 'bin', 'shatwan', 'libya', 's', 'oil', 'minister', 'told', 'reuters.', 'i', 'do', 'not', 'think', 'we', 'need', 'to', 'cut', 'unless', 'the', 'prices', 'are', 'falling', 'below', '$35', 'a', 'barrel', 'he', 'added.', 'opec', 'closely', 'watches', 'global', 'stocks', 'to', 'ensure', 'that', 'there', 'is', 'not', 'an', 'excessive', 'supply', 'in', 'the', 'market.', 'the', 'arrival', 'of', 'spring', 'in', 'the', 'northern', 'hemisphere', 'will', 'focus', 'attention', 'on', 'stockpiles', 'of', 'us', 'crude', 'and', 'gasoline', 'which', 'are', 'up', 'to', '9%', 'higher', 'than', 'at', 'this', 'time', 'last', 'year.', 'heavy', 'stockpiles', 'could', 'help', 'force', 'prices', 'lower', 'when', 'demand', 'eases.']\n"
     ]
    }
   ],
   "source": [
    "# Split on spaces\n",
    "article = X_train[12]\n",
    "word = article.split() # space tokenizer\n",
    "print('Using Split :',word)\n"
   ]
  },
  {
   "cell_type": "markdown",
   "metadata": {},
   "source": [
    "### Regular expression tokenizer"
   ]
  },
  {
   "cell_type": "code",
   "execution_count": 9,
   "metadata": {},
   "outputs": [
    {
     "name": "stdout",
     "output_type": "stream",
     "text": [
      "Using regexes : ['crude', 'oil', 'prices', 'back', 'above', '50', 'cold', 'weather', 'across', 'parts', 'of', 'the', 'united', 'states', 'and', 'much', 'of', 'europe', 'has', 'pushed', 'us', 'crude', 'oil', 'prices', 'above', '50', 'a', 'barrel', 'for', 'the', 'first', 'time', 'in', 'almost', 'three', 'months', 'freezing', 'temperatures', 'and', 'heavy', 'snowfall', 'have', 'increased', 'demand', 'for', 'heating', 'fuel', 'in', 'the', 'us', 'where', 'stocks', 'are', 'low', 'fresh', 'falls', 'in', 'the', 'value', 'of', 'the', 'dollar', 'helped', 'carry', 'prices', 'above', 'the', '50', 'mark', 'for', 'the', 'first', 'time', 'since', 'november', 'a', 'barrel', 'of', 'us', 'crude', 'oil', 'closed', 'up', '2', '80', 'to', '51', '15', 'in', 'new', 'york', 'on', 'tuesday', 'opec', 'members', 'said', 'on', 'tuesday', 'that', 'it', 'saw', 'no', 'reason', 'to', 'cut', 'its', 'output', 'although', 'below', 'last', 'year', 's', 'peak', 'of', '55', '67', 'a', 'barrel', 'which', 'was', 'reached', 'in', 'october', 'prices', 'are', 'now', 'well', 'above', '2004', 's', 'average', 'of', '41', '48', 'brent', 'crude', 'also', 'rose', 'in', 'london', 'trading', 'adding', '1', '89', 'to', '48', '62', 'at', 'the', 'close', 'much', 'of', 'western', 'europe', 'and', 'the', 'north', 'east', 'of', 'america', 'has', 'been', 'shivering', 'under', 'unseasonably', 'low', 'temperatures', 'in', 'recent', 'days', 'the', 'decline', 'in', 'the', 'us', 'dollar', 'to', 'a', 'five', 'week', 'low', 'against', 'the', 'euro', 'has', 'also', 'served', 'to', 'inflate', 'prices', 'the', 'dollar', 'moved', 'sharply', 'overnight', 'and', 'oil', 'is', 'following', 'it', 'said', 'chris', 'furness', 'senior', 'market', 'strategist', 'at', '4cast', 'if', 'the', 'dollar', 'continues', 'to', 'weaken', 'oil', 'will', 'be', 'obviously', 'higher', 'several', 'opec', 'members', 'said', 'a', 'cut', 'in', 'production', 'was', 'unlikely', 'citing', 'rising', 'prices', 'and', 'strong', 'demand', 'for', 'oil', 'from', 'asia', 'i', 'agree', 'that', 'we', 'do', 'not', 'need', 'to', 'cut', 'supply', 'if', 'the', 'prices', 'are', 'as', 'much', 'as', 'this', 'fathi', 'bin', 'shatwan', 'libya', 's', 'oil', 'minister', 'told', 'reuters', 'i', 'do', 'not', 'think', 'we', 'need', 'to', 'cut', 'unless', 'the', 'prices', 'are', 'falling', 'below', '35', 'a', 'barrel', 'he', 'added', 'opec', 'closely', 'watches', 'global', 'stocks', 'to', 'ensure', 'that', 'there', 'is', 'not', 'an', 'excessive', 'supply', 'in', 'the', 'market', 'the', 'arrival', 'of', 'spring', 'in', 'the', 'northern', 'hemisphere', 'will', 'focus', 'attention', 'on', 'stockpiles', 'of', 'us', 'crude', 'and', 'gasoline', 'which', 'are', 'up', 'to', '9', 'higher', 'than', 'at', 'this', 'time', 'last', 'year', 'heavy', 'stockpiles', 'could', 'help', 'force', 'prices', 'lower', 'when', 'demand', 'eases']\n"
     ]
    }
   ],
   "source": [
    "tokens = re.findall(\"[\\w']+\", article)\n",
    "print('Using regexes :',tokens)"
   ]
  },
  {
   "cell_type": "markdown",
   "metadata": {},
   "source": [
    "### NLTK Word Tokenize"
   ]
  },
  {
   "cell_type": "code",
   "execution_count": 10,
   "metadata": {},
   "outputs": [
    {
     "name": "stdout",
     "output_type": "stream",
     "text": [
      "Using NLTK : ['crude', 'oil', 'prices', 'back', 'above', '$', '50', 'cold', 'weather', 'across', 'parts', 'of', 'the', 'united', 'states', 'and', 'much', 'of', 'europe', 'has', 'pushed', 'us', 'crude', 'oil', 'prices', 'above', '$', '50', 'a', 'barrel', 'for', 'the', 'first', 'time', 'in', 'almost', 'three', 'months', '.', 'freezing', 'temperatures', 'and', 'heavy', 'snowfall', 'have', 'increased', 'demand', 'for', 'heating', 'fuel', 'in', 'the', 'us', 'where', 'stocks', 'are', 'low', '.', 'fresh', 'falls', 'in', 'the', 'value', 'of', 'the', 'dollar', 'helped', 'carry', 'prices', 'above', 'the', '$', '50', 'mark', 'for', 'the', 'first', 'time', 'since', 'november', '.', 'a', 'barrel', 'of', 'us', 'crude', 'oil', 'closed', 'up', '$', '2.80', 'to', '$', '51.15', 'in', 'new', 'york', 'on', 'tuesday', '.', 'opec', 'members', 'said', 'on', 'tuesday', 'that', 'it', 'saw', 'no', 'reason', 'to', 'cut', 'its', 'output', '.', 'although', 'below', 'last', 'year', 's', 'peak', 'of', '$', '55.67', 'a', 'barrel', 'which', 'was', 'reached', 'in', 'october', 'prices', 'are', 'now', 'well', 'above', '2004', 's', 'average', 'of', '$', '41.48', '.', 'brent', 'crude', 'also', 'rose', 'in', 'london', 'trading', 'adding', '$', '1.89', 'to', '$', '48.62', 'at', 'the', 'close', '.', 'much', 'of', 'western', 'europe', 'and', 'the', 'north', 'east', 'of', 'america', 'has', 'been', 'shivering', 'under', 'unseasonably', 'low', 'temperatures', 'in', 'recent', 'days', '.', 'the', 'decline', 'in', 'the', 'us', 'dollar', 'to', 'a', 'five-week', 'low', 'against', 'the', 'euro', 'has', 'also', 'served', 'to', 'inflate', 'prices', '.', 'the', 'dollar', 'moved', 'sharply', 'overnight', 'and', 'oil', 'is', 'following', 'it', 'said', 'chris', 'furness', 'senior', 'market', 'strategist', 'at', '4cast', '.', 'if', 'the', 'dollar', 'continues', 'to', 'weaken', 'oil', 'will', 'be', 'obviously', 'higher', '.', 'several', 'opec', 'members', 'said', 'a', 'cut', 'in', 'production', 'was', 'unlikely', 'citing', 'rising', 'prices', 'and', 'strong', 'demand', 'for', 'oil', 'from', 'asia', '.', 'i', 'agree', 'that', 'we', 'do', 'not', 'need', 'to', 'cut', 'supply', 'if', 'the', 'prices', 'are', 'as', 'much', 'as', 'this', 'fathi', 'bin', 'shatwan', 'libya', 's', 'oil', 'minister', 'told', 'reuters', '.', 'i', 'do', 'not', 'think', 'we', 'need', 'to', 'cut', 'unless', 'the', 'prices', 'are', 'falling', 'below', '$', '35', 'a', 'barrel', 'he', 'added', '.', 'opec', 'closely', 'watches', 'global', 'stocks', 'to', 'ensure', 'that', 'there', 'is', 'not', 'an', 'excessive', 'supply', 'in', 'the', 'market', '.', 'the', 'arrival', 'of', 'spring', 'in', 'the', 'northern', 'hemisphere', 'will', 'focus', 'attention', 'on', 'stockpiles', 'of', 'us', 'crude', 'and', 'gasoline', 'which', 'are', 'up', 'to', '9', '%', 'higher', 'than', 'at', 'this', 'time', 'last', 'year', '.', 'heavy', 'stockpiles', 'could', 'help', 'force', 'prices', 'lower', 'when', 'demand', 'eases', '.']\n"
     ]
    }
   ],
   "source": [
    "words = word_tokenize(article)\n",
    "print('Using NLTK :',words)"
   ]
  },
  {
   "cell_type": "markdown",
   "metadata": {},
   "source": [
    "### Sentence Tokenize using split"
   ]
  },
  {
   "cell_type": "code",
   "execution_count": 11,
   "metadata": {},
   "outputs": [
    {
     "name": "stdout",
     "output_type": "stream",
     "text": [
      "Using Splits : ['crude oil prices back above $50 cold weather across parts of the united states and much of europe has pushed us crude oil prices above $50 a barrel for the first time in almost three months', ' freezing temperatures and heavy snowfall have increased demand for heating fuel in the us  where stocks are low', 'fresh falls in the value of the dollar helped carry prices above the $50 mark for the first time since november', 'a barrel of us crude oil closed up $2.80 to $51.15 in new york on tuesday', 'opec members said on tuesday that it saw no reason to cut its output', ' although below last year s peak of $55.67 a barrel  which was reached in october  prices are now well above 2004 s average of $41.48', ' brent crude also rose in london trading  adding $1.89 to $48.62 at the close', 'much of western europe and the north east of america has been shivering under unseasonably low temperatures in recent days', 'the decline in the us dollar to a five-week low against the euro has also served to inflate prices', ' the dollar moved sharply overnight and oil is following it   said chris furness  senior market strategist at 4cast', ' if the dollar continues to weaken  oil will be obviously higher', '  several opec members said a cut in production was unlikely  citing rising prices and strong demand for oil from asia', ' i agree that we do not need to cut supply if the prices are as much as this   fathi bin shatwan  libya s oil minister  told reuters', ' i do not think we need to cut unless the prices are falling below $35 a barrel   he added', 'opec closely watches global stocks to ensure that there is not an excessive supply in the market', 'the arrival of spring in the northern hemisphere will focus attention on stockpiles of us crude and gasoline  which are up to 9% higher than at this time last year', 'heavy stockpiles could help force prices lower when demand eases.']\n"
     ]
    }
   ],
   "source": [
    "# Splits at '.'\n",
    "splits = article.split('. ')\n",
    "print('Using Splits :',splits)"
   ]
  },
  {
   "cell_type": "markdown",
   "metadata": {},
   "source": [
    "### Sentence Tokenize using regex"
   ]
  },
  {
   "cell_type": "code",
   "execution_count": 12,
   "metadata": {},
   "outputs": [
    {
     "name": "stdout",
     "output_type": "stream",
     "text": [
      "Using regexes : ['crude oil prices back above $50 cold weather across parts of the united states and much of europe has pushed us crude oil prices above $50 a barrel for the first time in almost three months', ' freezing temperatures and heavy snowfall have increased demand for heating fuel in the us  where stocks are low', 'fresh falls in the value of the dollar helped carry prices above the $50 mark for the first time since november', 'a barrel of us crude oil closed up $2.80 to $51.15 in new york on tuesday', 'opec members said on tuesday that it saw no reason to cut its output', ' although below last year s peak of $55.67 a barrel  which was reached in october  prices are now well above 2004 s average of $41.48', ' brent crude also rose in london trading  adding $1.89 to $48.62 at the close', 'much of western europe and the north east of america has been shivering under unseasonably low temperatures in recent days', 'the decline in the us dollar to a five-week low against the euro has also served to inflate prices', ' the dollar moved sharply overnight and oil is following it   said chris furness  senior market strategist at 4cast', ' if the dollar continues to weaken  oil will be obviously higher', '  several opec members said a cut in production was unlikely  citing rising prices and strong demand for oil from asia', ' i agree that we do not need to cut supply if the prices are as much as this   fathi bin shatwan  libya s oil minister  told reuters', ' i do not think we need to cut unless the prices are falling below $35 a barrel   he added', 'opec closely watches global stocks to ensure that there is not an excessive supply in the market', 'the arrival of spring in the northern hemisphere will focus attention on stockpiles of us crude and gasoline  which are up to 9% higher than at this time last year', 'heavy stockpiles could help force prices lower when demand eases.']\n"
     ]
    }
   ],
   "source": [
    "# Using Regular Expressions (RegEx)\n",
    "sentence_splits = re.compile('[.!?] ').split(article)\n",
    "print('Using regexes :',sentence_splits)"
   ]
  },
  {
   "cell_type": "markdown",
   "metadata": {},
   "source": [
    "### NLTK sent_tokenize"
   ]
  },
  {
   "cell_type": "code",
   "execution_count": 13,
   "metadata": {},
   "outputs": [
    {
     "name": "stdout",
     "output_type": "stream",
     "text": [
      "Using NLTK : ['crude oil prices back above $50 cold weather across parts of the united states and much of europe has pushed us crude oil prices above $50 a barrel for the first time in almost three months.', 'freezing temperatures and heavy snowfall have increased demand for heating fuel in the us  where stocks are low.', 'fresh falls in the value of the dollar helped carry prices above the $50 mark for the first time since november.', 'a barrel of us crude oil closed up $2.80 to $51.15 in new york on tuesday.', 'opec members said on tuesday that it saw no reason to cut its output.', 'although below last year s peak of $55.67 a barrel  which was reached in october  prices are now well above 2004 s average of $41.48.', 'brent crude also rose in london trading  adding $1.89 to $48.62 at the close.', 'much of western europe and the north east of america has been shivering under unseasonably low temperatures in recent days.', 'the decline in the us dollar to a five-week low against the euro has also served to inflate prices.', 'the dollar moved sharply overnight and oil is following it   said chris furness  senior market strategist at 4cast.', 'if the dollar continues to weaken  oil will be obviously higher.', 'several opec members said a cut in production was unlikely  citing rising prices and strong demand for oil from asia.', 'i agree that we do not need to cut supply if the prices are as much as this   fathi bin shatwan  libya s oil minister  told reuters.', 'i do not think we need to cut unless the prices are falling below $35 a barrel   he added.', 'opec closely watches global stocks to ensure that there is not an excessive supply in the market.', 'the arrival of spring in the northern hemisphere will focus attention on stockpiles of us crude and gasoline  which are up to 9% higher than at this time last year.', 'heavy stockpiles could help force prices lower when demand eases.']\n"
     ]
    }
   ],
   "source": [
    "# Using NLTK\n",
    "from nltk.tokenize import sent_tokenize\n",
    "sentence_splits = sent_tokenize(article)\n",
    "print('Using NLTK :',sentence_splits)"
   ]
  },
  {
   "cell_type": "markdown",
   "metadata": {},
   "source": [
    "### Tweet Tokenizer"
   ]
  },
  {
   "cell_type": "code",
   "execution_count": 14,
   "metadata": {},
   "outputs": [
    {
     "name": "stdout",
     "output_type": "stream",
     "text": [
      "crude oil prices back above $50 cold weather across parts of the united states and much of europe has pushed us crude oil prices above $50 a barrel for the first time in almost three months.  freezing temperatures and heavy snowfall have increased demand for heating fuel in the us  where stocks are low. fresh falls in the value of the dollar helped carry prices above the $50 mark for the first time since november. a barrel of us crude oil closed up $2.80 to $51.15 in new york on tuesday. opec members said on tuesday that it saw no reason to cut its output.  although below last year s peak of $55.67 a barrel  which was reached in october  prices are now well above 2004 s average of $41.48.  brent crude also rose in london trading  adding $1.89 to $48.62 at the close. much of western europe and the north east of america has been shivering under unseasonably low temperatures in recent days. the decline in the us dollar to a five-week low against the euro has also served to inflate prices.  the dollar moved sharply overnight and oil is following it   said chris furness  senior market strategist at 4cast.  if the dollar continues to weaken  oil will be obviously higher.   several opec members said a cut in production was unlikely  citing rising prices and strong demand for oil from asia.  i agree that we do not need to cut supply if the prices are as much as this   fathi bin shatwan  libya s oil minister  told reuters.  i do not think we need to cut unless the prices are falling below $35 a barrel   he added. opec closely watches global stocks to ensure that there is not an excessive supply in the market. the arrival of spring in the northern hemisphere will focus attention on stockpiles of us crude and gasoline  which are up to 9% higher than at this time last year. heavy stockpiles could help force prices lower when demand eases.\n"
     ]
    }
   ],
   "source": [
    "# remove old style rearticle text \"RT\"\n",
    "article2 = re.sub(r'^RT[\\s]+', '', article)\n",
    "\n",
    "# remove hyperlinks\n",
    "article2 = re.sub(r'https?://[^\\s\\n\\r]+', '', article2)\n",
    "\n",
    "# remove hashtags\n",
    "# only removing the hash # sign from the word\n",
    "article2 = re.sub(r'#', '', article2)\n",
    "print(article2)"
   ]
  },
  {
   "cell_type": "code",
   "execution_count": 15,
   "metadata": {},
   "outputs": [
    {
     "name": "stdout",
     "output_type": "stream",
     "text": [
      "\n",
      "Tokenized string:\n",
      "['crude', 'oil', 'prices', 'back', 'above', '$', '50', 'cold', 'weather', 'across', 'parts', 'of', 'the', 'united', 'states', 'and', 'much', 'of', 'europe', 'has', 'pushed', 'us', 'crude', 'oil', 'prices', 'above', '$', '50', 'a', 'barrel', 'for', 'the', 'first', 'time', 'in', 'almost', 'three', 'months', '.', 'freezing', 'temperatures', 'and', 'heavy', 'snowfall', 'have', 'increased', 'demand', 'for', 'heating', 'fuel', 'in', 'the', 'us', 'where', 'stocks', 'are', 'low', '.', 'fresh', 'falls', 'in', 'the', 'value', 'of', 'the', 'dollar', 'helped', 'carry', 'prices', 'above', 'the', '$', '50', 'mark', 'for', 'the', 'first', 'time', 'since', 'november', '.', 'a', 'barrel', 'of', 'us', 'crude', 'oil', 'closed', 'up', '$', '2.80', 'to', '$', '51.15', 'in', 'new', 'york', 'on', 'tuesday', '.', 'opec', 'members', 'said', 'on', 'tuesday', 'that', 'it', 'saw', 'no', 'reason', 'to', 'cut', 'its', 'output', '.', 'although', 'below', 'last', 'year', 's', 'peak', 'of', '$', '55.67', 'a', 'barrel', 'which', 'was', 'reached', 'in', 'october', 'prices', 'are', 'now', 'well', 'above', '2004', 's', 'average', 'of', '$', '41.48', '.', 'brent', 'crude', 'also', 'rose', 'in', 'london', 'trading', 'adding', '$', '1.89', 'to', '$', '48.62', 'at', 'the', 'close', '.', 'much', 'of', 'western', 'europe', 'and', 'the', 'north', 'east', 'of', 'america', 'has', 'been', 'shivering', 'under', 'unseasonably', 'low', 'temperatures', 'in', 'recent', 'days', '.', 'the', 'decline', 'in', 'the', 'us', 'dollar', 'to', 'a', 'five-week', 'low', 'against', 'the', 'euro', 'has', 'also', 'served', 'to', 'inflate', 'prices', '.', 'the', 'dollar', 'moved', 'sharply', 'overnight', 'and', 'oil', 'is', 'following', 'it', 'said', 'chris', 'furness', 'senior', 'market', 'strategist', 'at', '4cast', '.', 'if', 'the', 'dollar', 'continues', 'to', 'weaken', 'oil', 'will', 'be', 'obviously', 'higher', '.', 'several', 'opec', 'members', 'said', 'a', 'cut', 'in', 'production', 'was', 'unlikely', 'citing', 'rising', 'prices', 'and', 'strong', 'demand', 'for', 'oil', 'from', 'asia', '.', 'i', 'agree', 'that', 'we', 'do', 'not', 'need', 'to', 'cut', 'supply', 'if', 'the', 'prices', 'are', 'as', 'much', 'as', 'this', 'fathi', 'bin', 'shatwan', 'libya', 's', 'oil', 'minister', 'told', 'reuters', '.', 'i', 'do', 'not', 'think', 'we', 'need', 'to', 'cut', 'unless', 'the', 'prices', 'are', 'falling', 'below', '$', '35', 'a', 'barrel', 'he', 'added', '.', 'opec', 'closely', 'watches', 'global', 'stocks', 'to', 'ensure', 'that', 'there', 'is', 'not', 'an', 'excessive', 'supply', 'in', 'the', 'market', '.', 'the', 'arrival', 'of', 'spring', 'in', 'the', 'northern', 'hemisphere', 'will', 'focus', 'attention', 'on', 'stockpiles', 'of', 'us', 'crude', 'and', 'gasoline', 'which', 'are', 'up', 'to', '9', '%', 'higher', 'than', 'at', 'this', 'time', 'last', 'year', '.', 'heavy', 'stockpiles', 'could', 'help', 'force', 'prices', 'lower', 'when', 'demand', 'eases', '.']\n"
     ]
    }
   ],
   "source": [
    "# instantiate tokenizer class\n",
    "tokenizer = TweetTokenizer(preserve_case=False, strip_handles=True,\n",
    "                               reduce_len=True)\n",
    "\n",
    "# tokenize tweets\n",
    "tweet_tokens = tokenizer.tokenize(article2)\n",
    "\n",
    "\n",
    "print()\n",
    "print('Tokenized string:')\n",
    "print(tweet_tokens)"
   ]
  },
  {
   "cell_type": "markdown",
   "metadata": {},
   "source": [
    "### NLTK stopwords"
   ]
  },
  {
   "cell_type": "code",
   "execution_count": 16,
   "metadata": {},
   "outputs": [
    {
     "name": "stdout",
     "output_type": "stream",
     "text": [
      "Stop words\n",
      "\n",
      "['i', 'me', 'my', 'myself', 'we', 'our', 'ours', 'ourselves', 'you', \"you're\", \"you've\", \"you'll\", \"you'd\", 'your', 'yours', 'yourself', 'yourselves', 'he', 'him', 'his', 'himself', 'she', \"she's\", 'her', 'hers', 'herself', 'it', \"it's\", 'its', 'itself', 'they', 'them', 'their', 'theirs', 'themselves', 'what', 'which', 'who', 'whom', 'this', 'that', \"that'll\", 'these', 'those', 'am', 'is', 'are', 'was', 'were', 'be', 'been', 'being', 'have', 'has', 'had', 'having', 'do', 'does', 'did', 'doing', 'a', 'an', 'the', 'and', 'but', 'if', 'or', 'because', 'as', 'until', 'while', 'of', 'at', 'by', 'for', 'with', 'about', 'against', 'between', 'into', 'through', 'during', 'before', 'after', 'above', 'below', 'to', 'from', 'up', 'down', 'in', 'out', 'on', 'off', 'over', 'under', 'again', 'further', 'then', 'once', 'here', 'there', 'when', 'where', 'why', 'how', 'all', 'any', 'both', 'each', 'few', 'more', 'most', 'other', 'some', 'such', 'no', 'nor', 'not', 'only', 'own', 'same', 'so', 'than', 'too', 'very', 's', 't', 'can', 'will', 'just', 'don', \"don't\", 'should', \"should've\", 'now', 'd', 'll', 'm', 'o', 're', 've', 'y', 'ain', 'aren', \"aren't\", 'couldn', \"couldn't\", 'didn', \"didn't\", 'doesn', \"doesn't\", 'hadn', \"hadn't\", 'hasn', \"hasn't\", 'haven', \"haven't\", 'isn', \"isn't\", 'ma', 'mightn', \"mightn't\", 'mustn', \"mustn't\", 'needn', \"needn't\", 'shan', \"shan't\", 'shouldn', \"shouldn't\", 'wasn', \"wasn't\", 'weren', \"weren't\", 'won', \"won't\", 'wouldn', \"wouldn't\"]\n",
      "\n",
      "Punctuation\n",
      "\n",
      "!\"#$%&'()*+,-./:;<=>?@[\\]^_`{|}~\n"
     ]
    }
   ],
   "source": [
    "# Import the english stop words list from NLTK\n",
    "stopwords_english = stopwords.words('english')\n",
    "\n",
    "print('Stop words\\n')\n",
    "print(stopwords_english)\n",
    "\n",
    "print('\\nPunctuation\\n')\n",
    "print(string.punctuation)"
   ]
  },
  {
   "cell_type": "markdown",
   "metadata": {},
   "source": [
    "### Remove stopwords and punctuation"
   ]
  },
  {
   "cell_type": "code",
   "execution_count": 17,
   "metadata": {},
   "outputs": [
    {
     "name": "stdout",
     "output_type": "stream",
     "text": [
      "removed stop words and punctuation:\n",
      "['crude', 'oil', 'prices', 'back', '50', 'cold', 'weather', 'across', 'parts', 'united', 'states', 'much', 'europe', 'pushed', 'us', 'crude', 'oil', 'prices', '50', 'barrel', 'first', 'time', 'almost', 'three', 'months', 'freezing', 'temperatures', 'heavy', 'snowfall', 'increased', 'demand', 'heating', 'fuel', 'us', 'stocks', 'low', 'fresh', 'falls', 'value', 'dollar', 'helped', 'carry', 'prices', '50', 'mark', 'first', 'time', 'since', 'november', 'barrel', 'us', 'crude', 'oil', 'closed', '2.80', '51.15', 'new', 'york', 'tuesday', 'opec', 'members', 'said', 'tuesday', 'saw', 'reason', 'cut', 'output', 'although', 'last', 'year', 'peak', '55.67', 'barrel', 'reached', 'october', 'prices', 'well', '2004', 'average', '41.48', 'brent', 'crude', 'also', 'rose', 'london', 'trading', 'adding', '1.89', '48.62', 'close', 'much', 'western', 'europe', 'north', 'east', 'america', 'shivering', 'unseasonably', 'low', 'temperatures', 'recent', 'days', 'decline', 'us', 'dollar', 'five-week', 'low', 'euro', 'also', 'served', 'inflate', 'prices', 'dollar', 'moved', 'sharply', 'overnight', 'oil', 'following', 'said', 'chris', 'furness', 'senior', 'market', 'strategist', '4cast', 'dollar', 'continues', 'weaken', 'oil', 'obviously', 'higher', 'several', 'opec', 'members', 'said', 'cut', 'production', 'unlikely', 'citing', 'rising', 'prices', 'strong', 'demand', 'oil', 'asia', 'agree', 'need', 'cut', 'supply', 'prices', 'much', 'fathi', 'bin', 'shatwan', 'libya', 'oil', 'minister', 'told', 'reuters', 'think', 'need', 'cut', 'unless', 'prices', 'falling', '35', 'barrel', 'added', 'opec', 'closely', 'watches', 'global', 'stocks', 'ensure', 'excessive', 'supply', 'market', 'arrival', 'spring', 'northern', 'hemisphere', 'focus', 'attention', 'stockpiles', 'us', 'crude', 'gasoline', '9', 'higher', 'time', 'last', 'year', 'heavy', 'stockpiles', 'could', 'help', 'force', 'prices', 'lower', 'demand', 'eases']\n"
     ]
    }
   ],
   "source": [
    "tweets_clean = []\n",
    "\n",
    "for word in tweet_tokens: # Go through every word in your tokens list\n",
    "    if (word not in stopwords_english and  # remove stopwords\n",
    "        word not in string.punctuation):  # remove punctuation\n",
    "        tweets_clean.append(word)\n",
    "\n",
    "print('removed stop words and punctuation:')\n",
    "print(tweets_clean)"
   ]
  },
  {
   "cell_type": "markdown",
   "metadata": {},
   "source": [
    "### Porter Stemming"
   ]
  },
  {
   "cell_type": "code",
   "execution_count": 18,
   "metadata": {},
   "outputs": [
    {
     "name": "stdout",
     "output_type": "stream",
     "text": [
      "stemmed words:\n",
      "['crude', 'oil', 'price', 'back', '50', 'cold', 'weather', 'across', 'part', 'unit', 'state', 'much', 'europ', 'push', 'us', 'crude', 'oil', 'price', '50', 'barrel', 'first', 'time', 'almost', 'three', 'month', 'freez', 'temperatur', 'heavi', 'snowfal', 'increas', 'demand', 'heat', 'fuel', 'us', 'stock', 'low', 'fresh', 'fall', 'valu', 'dollar', 'help', 'carri', 'price', '50', 'mark', 'first', 'time', 'sinc', 'novemb', 'barrel', 'us', 'crude', 'oil', 'close', '2.80', '51.15', 'new', 'york', 'tuesday', 'opec', 'member', 'said', 'tuesday', 'saw', 'reason', 'cut', 'output', 'although', 'last', 'year', 'peak', '55.67', 'barrel', 'reach', 'octob', 'price', 'well', '2004', 'averag', '41.48', 'brent', 'crude', 'also', 'rose', 'london', 'trade', 'ad', '1.89', '48.62', 'close', 'much', 'western', 'europ', 'north', 'east', 'america', 'shiver', 'unseason', 'low', 'temperatur', 'recent', 'day', 'declin', 'us', 'dollar', 'five-week', 'low', 'euro', 'also', 'serv', 'inflat', 'price', 'dollar', 'move', 'sharpli', 'overnight', 'oil', 'follow', 'said', 'chri', 'fur', 'senior', 'market', 'strategist', '4cast', 'dollar', 'continu', 'weaken', 'oil', 'obvious', 'higher', 'sever', 'opec', 'member', 'said', 'cut', 'product', 'unlik', 'cite', 'rise', 'price', 'strong', 'demand', 'oil', 'asia', 'agre', 'need', 'cut', 'suppli', 'price', 'much', 'fathi', 'bin', 'shatwan', 'libya', 'oil', 'minist', 'told', 'reuter', 'think', 'need', 'cut', 'unless', 'price', 'fall', '35', 'barrel', 'ad', 'opec', 'close', 'watch', 'global', 'stock', 'ensur', 'excess', 'suppli', 'market', 'arriv', 'spring', 'northern', 'hemispher', 'focu', 'attent', 'stockpil', 'us', 'crude', 'gasolin', '9', 'higher', 'time', 'last', 'year', 'heavi', 'stockpil', 'could', 'help', 'forc', 'price', 'lower', 'demand', 'eas']\n"
     ]
    }
   ],
   "source": [
    "# Instantiate stemming class\n",
    "stemmer = PorterStemmer()\n",
    "\n",
    "# Create an empty list to store the stems\n",
    "tweets_stem = []\n",
    "\n",
    "for word in tweets_clean:\n",
    "    stem_word = stemmer.stem(word)  # stemming word\n",
    "    tweets_stem.append(stem_word)  # append to the list\n",
    "\n",
    "print('stemmed words:')\n",
    "print(tweets_stem)"
   ]
  },
  {
   "cell_type": "markdown",
   "metadata": {},
   "source": [
    "### Total Processing of article"
   ]
  },
  {
   "cell_type": "code",
   "execution_count": 19,
   "metadata": {},
   "outputs": [],
   "source": [
    "def process_article(article):\n",
    "    lemmatizer = WordNetLemmatizer()\n",
    "    stopwords_english = stopwords.words('english')\n",
    "    # remove stock market tickers like $GE\n",
    "    article = re.sub(r'\\$\\w*', '', article)\n",
    "    # remove old style rearticle text \"RT\"\n",
    "    article = re.sub(r'^RT[\\s]+', '', article)\n",
    "    # remove hyperlinks\n",
    "    article = re.sub(r'https?://[^\\s\\n\\r]+', '', article)\n",
    "    # remove hashtags\n",
    "    # only removing the hash # sign from the word\n",
    "    article = re.sub(r'#', '', article)\n",
    "    # tokenize articles\n",
    "    tokenizer = TweetTokenizer(preserve_case=False, strip_handles=True,\n",
    "                               reduce_len=True)\n",
    "    article_tokens = tokenizer.tokenize(article)\n",
    "\n",
    "    articles_clean = []\n",
    "    for word in article_tokens:\n",
    "        if (word not in stopwords_english and  # remove stopwords\n",
    "                word not in string.punctuation):  # remove punctuation\n",
    "            # articles_clean.append(word)\n",
    "            lemma_word = lemmatizer.lemmatize(word)  # stemming word\n",
    "            articles_clean.append(lemma_word)\n",
    "\n",
    "    return articles_clean"
   ]
  },
  {
   "cell_type": "code",
   "execution_count": 20,
   "metadata": {},
   "outputs": [
    {
     "name": "stdout",
     "output_type": "stream",
     "text": [
      "preprocessed article:\n",
      "['crude', 'oil', 'price', 'back', 'cold', 'weather', 'across', 'part', 'united', 'state', 'much', 'europe', 'pushed', 'u', 'crude', 'oil', 'price', 'barrel', 'first', 'time', 'almost', 'three', 'month', 'freezing', 'temperature', 'heavy', 'snowfall', 'increased', 'demand', 'heating', 'fuel', 'u', 'stock', 'low', 'fresh', 'fall', 'value', 'dollar', 'helped', 'carry', 'price', 'mark', 'first', 'time', 'since', 'november', 'barrel', 'u', 'crude', 'oil', 'closed', '80', '15', 'new', 'york', 'tuesday', 'opec', 'member', 'said', 'tuesday', 'saw', 'reason', 'cut', 'output', 'although', 'last', 'year', 'peak', '67', 'barrel', 'reached', 'october', 'price', 'well', '2004', 'average', '48', 'brent', 'crude', 'also', 'rose', 'london', 'trading', 'adding', '89', '62', 'close', 'much', 'western', 'europe', 'north', 'east', 'america', 'shivering', 'unseasonably', 'low', 'temperature', 'recent', 'day', 'decline', 'u', 'dollar', 'five-week', 'low', 'euro', 'also', 'served', 'inflate', 'price', 'dollar', 'moved', 'sharply', 'overnight', 'oil', 'following', 'said', 'chris', 'furness', 'senior', 'market', 'strategist', '4cast', 'dollar', 'continues', 'weaken', 'oil', 'obviously', 'higher', 'several', 'opec', 'member', 'said', 'cut', 'production', 'unlikely', 'citing', 'rising', 'price', 'strong', 'demand', 'oil', 'asia', 'agree', 'need', 'cut', 'supply', 'price', 'much', 'fathi', 'bin', 'shatwan', 'libya', 'oil', 'minister', 'told', 'reuters', 'think', 'need', 'cut', 'unless', 'price', 'falling', 'barrel', 'added', 'opec', 'closely', 'watch', 'global', 'stock', 'ensure', 'excessive', 'supply', 'market', 'arrival', 'spring', 'northern', 'hemisphere', 'focus', 'attention', 'stockpile', 'u', 'crude', 'gasoline', '9', 'higher', 'time', 'last', 'year', 'heavy', 'stockpile', 'could', 'help', 'force', 'price', 'lower', 'demand', 'eas']\n"
     ]
    }
   ],
   "source": [
    "# call the imported function\n",
    "articles_stem = process_article(article); # Preprocess a given article\n",
    "\n",
    "print('preprocessed article:')\n",
    "print(articles_stem) # Print the result"
   ]
  },
  {
   "cell_type": "markdown",
   "metadata": {},
   "source": [
    "### Build frequency dictionary"
   ]
  },
  {
   "cell_type": "code",
   "execution_count": 21,
   "metadata": {},
   "outputs": [],
   "source": [
    "def build_freqs(articles, ys):\n",
    "    \"\"\"\n",
    "        articles: a list of articles\n",
    "        ys: an m x 1 array with the sentiment label of each articles\n",
    "            (either 0 or 1)\n",
    "        freqs: a dictionary mapping each (word, sentiment) pair (=key) to its frequency (=value)\n",
    "    \"\"\"\n",
    "    # Convert np array to list since zip needs an iterable.\n",
    "    # The squeeze is necessary or the list ends up with one element.\n",
    "    # Also note that this is just a NOP if ys is already a list.\n",
    "    yslist = np.squeeze(ys).tolist()\n",
    "\n",
    "    # Start with an empty dictionary and populate it by looping over all articles\n",
    "    # and over all processed words in each articles.\n",
    "    freqs = {}\n",
    "    for y, articles in zip(yslist, articles):\n",
    "        for word in process_article(articles):\n",
    "            pair = (word, y)\n",
    "            if pair in freqs:\n",
    "                freqs[pair] += 1\n",
    "            else:\n",
    "                freqs[pair] = 1\n",
    "\n",
    "    return freqs"
   ]
  },
  {
   "cell_type": "code",
   "execution_count": 22,
   "metadata": {},
   "outputs": [
    {
     "name": "stdout",
     "output_type": "stream",
     "text": [
      "type(freqs) = <class 'dict'>\n",
      "len(freqs) = 49234\n"
     ]
    }
   ],
   "source": [
    "# create frequency dictionary\n",
    "freqs = build_freqs(X_train, y_train)\n",
    "\n",
    "# check data type\n",
    "print(f'type(freqs) = {type(freqs)}')\n",
    "\n",
    "# check length of the dictionary\n",
    "print(f'len(freqs) = {len(freqs)}')"
   ]
  },
  {
   "cell_type": "code",
   "execution_count": 23,
   "metadata": {},
   "outputs": [
    {
     "data": {
      "text/plain": [
       "[(('lapse', 'Sports'), 1),\n",
       " (('134m', 'Business'), 1),\n",
       " (('sustained', 'Politics'), 7),\n",
       " (('merseyside', 'Sports'), 1),\n",
       " (('zeeuw', 'Sports'), 3)]"
      ]
     },
     "execution_count": 23,
     "metadata": {},
     "output_type": "execute_result"
    }
   ],
   "source": [
    "random.seed(42)\n",
    "random.sample(list(freqs.items()),5)"
   ]
  },
  {
   "cell_type": "markdown",
   "metadata": {},
   "source": [
    "### Visualization"
   ]
  },
  {
   "cell_type": "markdown",
   "metadata": {},
   "source": [
    "### Extracting features from Frequency Dictionary"
   ]
  },
  {
   "cell_type": "code",
   "execution_count": 25,
   "metadata": {},
   "outputs": [],
   "source": [
    "categories = np.unique(y_train)"
   ]
  },
  {
   "cell_type": "code",
   "execution_count": 26,
   "metadata": {},
   "outputs": [],
   "source": [
    "def extract_features(article, freqs, categories = ['Business', 'Sports', 'Entertainment', 'Politics', 'Technology']):\n",
    "    \"\"\"\n",
    "    Extracts features for a given article based on word frequencies.\n",
    "\n",
    "    Parameters:\n",
    "    - article: A string containing the news article.\n",
    "    - freqs: A dictionary storing word-category frequencies as {(word, category): count}.\n",
    "    - categories: A list of unique categories (e.g., ['Sports', 'Politics', 'Technology', 'Business', 'Entertainment']).\n",
    "\n",
    "    Returns:\n",
    "    - x: A feature vector of shape (1, len(categories) + 1), where the first element is a bias term.\n",
    "    \"\"\"\n",
    "\n",
    "    # Process the article (tokenization, stopword removal, stemming/lemmatization)\n",
    "    word_l = process_article(article)  \n",
    "\n",
    "    # Initialize a feature vector of size (1, len(categories) + 1) [bias term + category counts]\n",
    "    x = np.zeros((1, len(categories) + 1))\n",
    "\n",
    "    # Bias term is set to 1\n",
    "    x[0, 0] = 1  \n",
    "\n",
    "    # Loop through each word in the processed article\n",
    "    for word in word_l:\n",
    "        for i, category in enumerate(categories):\n",
    "            # Increment word count for the respective category\n",
    "            x[0, i + 1] += freqs.get((word, category), 0)\n",
    "\n",
    "    assert x.shape == (1, len(categories) + 1)\n",
    "    return x"
   ]
  },
  {
   "cell_type": "code",
   "execution_count": 27,
   "metadata": {},
   "outputs": [
    {
     "name": "stdout",
     "output_type": "stream",
     "text": [
      "[[1.0000e+00 2.4804e+04 1.0468e+04 9.7240e+03 1.4716e+04 1.4469e+04]]\n"
     ]
    }
   ],
   "source": [
    "tmp1 = extract_features(article, freqs,list(y_train.unique()))\n",
    "print(tmp1)"
   ]
  },
  {
   "cell_type": "code",
   "execution_count": 28,
   "metadata": {},
   "outputs": [
    {
     "name": "stdout",
     "output_type": "stream",
     "text": [
      "[[  1.  39. 140. 448.  45.  53.]]\n"
     ]
    }
   ],
   "source": [
    "tmp2 = extract_features('This batch is the best batch', freqs,list(y_train.unique()))\n",
    "print(tmp2)"
   ]
  },
  {
   "cell_type": "code",
   "execution_count": 29,
   "metadata": {},
   "outputs": [
    {
     "name": "stdout",
     "output_type": "stream",
     "text": [
      "Feature Matrix Shape: (1780, 6)\n",
      "Encoded Labels Shape: (1780,)\n"
     ]
    }
   ],
   "source": [
    "# Get unique categories\n",
    "categories = list(y_train.unique())\n",
    "\n",
    "# Initialize feature matrix 'X' with shape (num_samples, num_categories + 1) \n",
    "X_train_features = np.zeros((len(X_train), len(categories) + 1))\n",
    "\n",
    "# Extract features for each article in X_train\n",
    "for i in range(len(X_train)):\n",
    "    X_train_features[i, :] = extract_features(X_train.iloc[i], freqs, categories)\n",
    "\n",
    "label_encoder = LabelEncoder()\n",
    "y_train_encoded = label_encoder.fit_transform(y_train)  # Converts categories into numerical labels\n",
    "\n",
    "# Print output\n",
    "print(\"Feature Matrix Shape:\", X_train_features.shape)\n",
    "print(\"Encoded Labels Shape:\", y_train_encoded.shape)\n"
   ]
  },
  {
   "cell_type": "code",
   "execution_count": 30,
   "metadata": {},
   "outputs": [
    {
     "data": {
      "text/plain": [
       "array([1.000e+00, 8.977e+03, 3.635e+03, 3.271e+03, 6.460e+03, 5.484e+03])"
      ]
     },
     "execution_count": 30,
     "metadata": {},
     "output_type": "execute_result"
    }
   ],
   "source": [
    "X_train_features[0]"
   ]
  },
  {
   "cell_type": "code",
   "execution_count": 31,
   "metadata": {},
   "outputs": [
    {
     "data": {
      "text/plain": [
       "array([0, 3, 1, ..., 4, 3, 1])"
      ]
     },
     "execution_count": 31,
     "metadata": {},
     "output_type": "execute_result"
    }
   ],
   "source": [
    "y_train_encoded"
   ]
  },
  {
   "cell_type": "markdown",
   "metadata": {},
   "source": [
    "### Logistic Regression"
   ]
  },
  {
   "cell_type": "code",
   "execution_count": 32,
   "metadata": {},
   "outputs": [
    {
     "name": "stdout",
     "output_type": "stream",
     "text": [
      "Training Accuracy:  0.9595505617977528\n"
     ]
    }
   ],
   "source": [
    "from sklearn.linear_model import LogisticRegression\n",
    "clf = LogisticRegression().fit(X_train_features, y_train_encoded)\n",
    "\n",
    "print(\"Training Accuracy: \",clf.score(X_train_features, y_train_encoded))"
   ]
  },
  {
   "cell_type": "markdown",
   "metadata": {},
   "source": [
    "### Logistic Regression with L1 Regularization"
   ]
  },
  {
   "cell_type": "code",
   "execution_count": 33,
   "metadata": {},
   "outputs": [
    {
     "name": "stdout",
     "output_type": "stream",
     "text": [
      "Training Accuracy:  0.9606741573033708\n"
     ]
    }
   ],
   "source": [
    "from sklearn.linear_model import LogisticRegression\n",
    "clf = LogisticRegression(C = 0.1,solver= 'saga', penalty= 'l1', max_iter = 500).fit(X_train_features, y_train_encoded)\n",
    "\n",
    "print(\"Training Accuracy: \",clf.score(X_train_features, y_train_encoded))"
   ]
  },
  {
   "cell_type": "markdown",
   "metadata": {},
   "source": [
    "### Check performance on test set"
   ]
  },
  {
   "cell_type": "code",
   "execution_count": 34,
   "metadata": {},
   "outputs": [
    {
     "name": "stdout",
     "output_type": "stream",
     "text": [
      "Feature Matrix Shape: (445, 6)\n",
      "Encoded Labels Shape: (445,)\n",
      "Testing Accuracy:  0.9707865168539326\n"
     ]
    }
   ],
   "source": [
    "# Get unique categories\n",
    "categories = list(y_train.unique())\n",
    "\n",
    "# Initialize feature matrix 'X' with shape (num_samples, num_categories + 1) \n",
    "X_test_features = np.zeros((len(X_test), len(categories) + 1))\n",
    "\n",
    "# Extract features for each article in X_test\n",
    "for i in range(len(X_test)):\n",
    "    X_test_features[i, :] = extract_features(X_test.iloc[i], freqs, categories)\n",
    "\n",
    "y_test_encoded = label_encoder.transform(y_test)  # Converts categories into numerical labels\n",
    "\n",
    "# Print output\n",
    "print(\"Feature Matrix Shape:\", X_test_features.shape)\n",
    "print(\"Encoded Labels Shape:\", y_test_encoded.shape)\n",
    "\n",
    "print(\"Testing Accuracy: \",clf.score(X_test_features, y_test_encoded))"
   ]
  },
  {
   "cell_type": "markdown",
   "metadata": {},
   "source": [
    "### Predict whether article is Sports or Entertainment or Politics or Business or Technology"
   ]
  },
  {
   "cell_type": "code",
   "execution_count": 35,
   "metadata": {},
   "outputs": [
    {
     "name": "stdout",
     "output_type": "stream",
     "text": [
      "\u001b[92mIreland secured a hard-fought 19-13 victory over England in the Six Nations, despite controversial referee decisions. -> ['Sports']\n",
      "\u001b[91mAsian stock markets remain strong despite tsunami impact, with investors showing resilience. -> ['Business']\n",
      "\u001b[93mThe UK government faces pressure over secondary education reforms, with debates on replacing GCSEs and A-levels. -> ['Politics']\n",
      "\u001b[94mBroadreach and Skype partner to enable free calls via Wi-Fi hotspots, expanding internet telephony services. -> ['Technology']\n",
      "\u001b[95mQuentin Tarantino is in talks to direct the next Friday the 13th film, adding to the horror franchise. -> ['Entertainment']\n"
     ]
    }
   ],
   "source": [
    "def predict_custom_article(article, freqs):\n",
    "    x = extract_features(article, freqs, categories)  # Extract features for classification\n",
    "    y_pred = clf.predict(x)  # Predict category\n",
    "    return label_encoder.inverse_transform(y_pred)  # Convert label back to category name\n",
    "\n",
    "# List of summarized articles corresponding to different categories\n",
    "list_of_articles = [\n",
    "    '\\033[92m'+'Ireland secured a hard-fought 19-13 victory over England in the Six Nations, despite controversial referee decisions.',  # Sports\n",
    "    '\\033[91m'+'Asian stock markets remain strong despite tsunami impact, with investors showing resilience.',  # Business\n",
    "    '\\033[93m'+'The UK government faces pressure over secondary education reforms, with debates on replacing GCSEs and A-levels.',  # Politics\n",
    "    '\\033[94m'+'Broadreach and Skype partner to enable free calls via Wi-Fi hotspots, expanding internet telephony services.',  # Technology\n",
    "    '\\033[95m'+'Quentin Tarantino is in talks to direct the next Friday the 13th film, adding to the horror franchise.',  # Entertainment\n",
    "]\n",
    "\n",
    "# Run predictions on sample articles\n",
    "for article in list_of_articles:\n",
    "    print('%s -> %s' % (article, predict_custom_article(article, freqs)))"
   ]
  },
  {
   "cell_type": "code",
   "execution_count": 36,
   "metadata": {},
   "outputs": [
    {
     "data": {
      "text/plain": [
       "array(['Entertainment'], dtype=object)"
      ]
     },
     "execution_count": 36,
     "metadata": {},
     "output_type": "execute_result"
    }
   ],
   "source": [
    "predict_custom_article('RRR movie has won oscar award for \"Naatu Naatu\" song', freqs)"
   ]
  },
  {
   "cell_type": "code",
   "execution_count": 37,
   "metadata": {},
   "outputs": [
    {
     "data": {
      "text/plain": [
       "array(['Entertainment'], dtype=object)"
      ]
     },
     "execution_count": 37,
     "metadata": {},
     "output_type": "execute_result"
    }
   ],
   "source": [
    "predict_custom_article(\"Sachin Tendulkar has argued in parliament regarding deaths due to covid\", freqs)"
   ]
  },
  {
   "cell_type": "markdown",
   "metadata": {},
   "source": [
    "# TEXT REPRESENTATION AND SIMILAR ARTICLES"
   ]
  },
  {
   "cell_type": "code",
   "execution_count": 38,
   "metadata": {},
   "outputs": [
    {
     "name": "stdout",
     "output_type": "stream",
     "text": [
      "{'Article': 'worldcom boss  left books alone  former worldcom boss bernie '\n",
      "            'ebbers  who is accused of overseeing an $11bn (£5.8bn) fraud  '\n",
      "            'never made accounting decisions  a witness has told jurors.  '\n",
      "            'david myers made the comments under questioning by defence '\n",
      "            'lawyers who have been arguing that mr ebbers was not responsible '\n",
      "            'for worldcom s problems. the phone company collapsed in 2002 and '\n",
      "            'prosecutors claim that losses were hidden to protect the firm s '\n",
      "            'shares. mr myers has already pleaded guilty to fraud and is '\n",
      "            'assisting prosecutors.  on monday  defence lawyer reid weingarten '\n",
      "            'tried to distance his client from the allegations. during cross '\n",
      "            'examination  he asked mr myers if he ever knew mr ebbers  make an '\n",
      "            'accounting decision  .  not that i am aware of   mr myers '\n",
      "            'replied.  did you ever know mr ebbers to make an accounting entry '\n",
      "            'into worldcom books   mr weingarten pressed.  no   replied the '\n",
      "            'witness. mr myers has admitted that he ordered false accounting '\n",
      "            'entries at the request of former worldcom chief financial officer '\n",
      "            'scott sullivan. defence lawyers have been trying to paint mr '\n",
      "            'sullivan  who has admitted fraud and will testify later in the '\n",
      "            'trial  as the mastermind behind worldcom s accounting house of '\n",
      "            'cards.  mr ebbers  team  meanwhile  are looking to portray him as '\n",
      "            'an affable boss  who by his own admission is more pe graduate '\n",
      "            'than economist. whatever his abilities  mr ebbers transformed '\n",
      "            'worldcom from a relative unknown into a $160bn telecoms giant and '\n",
      "            'investor darling of the late 1990s. worldcom s problems mounted  '\n",
      "            'however  as competition increased and the telecoms boom petered '\n",
      "            'out. when the firm finally collapsed  shareholders lost about '\n",
      "            '$180bn and 20 000 workers lost their jobs. mr ebbers  trial is '\n",
      "            'expected to last two months and if found guilty the former ceo '\n",
      "            'faces a substantial jail sentence. he has firmly declared his '\n",
      "            'innocence.',\n",
      " 'Category': 'Business'}\n"
     ]
    }
   ],
   "source": [
    "pprint(data.iloc[1].to_dict(),compact=True)"
   ]
  },
  {
   "cell_type": "code",
   "execution_count": 39,
   "metadata": {},
   "outputs": [
    {
     "data": {
      "text/html": [
       "<div>\n",
       "<style scoped>\n",
       "    .dataframe tbody tr th:only-of-type {\n",
       "        vertical-align: middle;\n",
       "    }\n",
       "\n",
       "    .dataframe tbody tr th {\n",
       "        vertical-align: top;\n",
       "    }\n",
       "\n",
       "    .dataframe thead th {\n",
       "        text-align: right;\n",
       "    }\n",
       "</style>\n",
       "<table border=\"1\" class=\"dataframe\">\n",
       "  <thead>\n",
       "    <tr style=\"text-align: right;\">\n",
       "      <th></th>\n",
       "      <th>Category</th>\n",
       "      <th>Article</th>\n",
       "    </tr>\n",
       "  </thead>\n",
       "  <tbody>\n",
       "    <tr>\n",
       "      <th>count</th>\n",
       "      <td>2225</td>\n",
       "      <td>2225</td>\n",
       "    </tr>\n",
       "    <tr>\n",
       "      <th>unique</th>\n",
       "      <td>5</td>\n",
       "      <td>2126</td>\n",
       "    </tr>\n",
       "    <tr>\n",
       "      <th>top</th>\n",
       "      <td>Sports</td>\n",
       "      <td>kennedy questions trust of blair lib dem leade...</td>\n",
       "    </tr>\n",
       "    <tr>\n",
       "      <th>freq</th>\n",
       "      <td>511</td>\n",
       "      <td>2</td>\n",
       "    </tr>\n",
       "  </tbody>\n",
       "</table>\n",
       "</div>"
      ],
      "text/plain": [
       "       Category                                            Article\n",
       "count      2225                                               2225\n",
       "unique        5                                               2126\n",
       "top      Sports  kennedy questions trust of blair lib dem leade...\n",
       "freq        511                                                  2"
      ]
     },
     "execution_count": 39,
     "metadata": {},
     "output_type": "execute_result"
    }
   ],
   "source": [
    "data.describe(include=\"all\")"
   ]
  },
  {
   "cell_type": "code",
   "execution_count": 40,
   "metadata": {},
   "outputs": [
    {
     "data": {
      "text/plain": [
       "Category    0\n",
       "Article     0\n",
       "dtype: int64"
      ]
     },
     "execution_count": 40,
     "metadata": {},
     "output_type": "execute_result"
    }
   ],
   "source": [
    "data.isna().sum()"
   ]
  },
  {
   "cell_type": "code",
   "execution_count": 41,
   "metadata": {},
   "outputs": [
    {
     "data": {
      "text/plain": [
       "99"
      ]
     },
     "execution_count": 41,
     "metadata": {},
     "output_type": "execute_result"
    }
   ],
   "source": [
    "data.duplicated().sum()"
   ]
  },
  {
   "cell_type": "markdown",
   "metadata": {},
   "source": [
    "## COMMON PREPROCESSING PROBLEMS"
   ]
  },
  {
   "cell_type": "markdown",
   "metadata": {},
   "source": [
    "### Expanding word contractions"
   ]
  },
  {
   "cell_type": "code",
   "execution_count": 42,
   "metadata": {},
   "outputs": [
    {
     "data": {
      "text/html": [
       "<div>\n",
       "<style scoped>\n",
       "    .dataframe tbody tr th:only-of-type {\n",
       "        vertical-align: middle;\n",
       "    }\n",
       "\n",
       "    .dataframe tbody tr th {\n",
       "        vertical-align: top;\n",
       "    }\n",
       "\n",
       "    .dataframe thead th {\n",
       "        text-align: right;\n",
       "    }\n",
       "</style>\n",
       "<table border=\"1\" class=\"dataframe\">\n",
       "  <thead>\n",
       "    <tr style=\"text-align: right;\">\n",
       "      <th></th>\n",
       "      <th>Category</th>\n",
       "      <th>Article</th>\n",
       "    </tr>\n",
       "  </thead>\n",
       "  <tbody>\n",
       "    <tr>\n",
       "      <th>0</th>\n",
       "      <td>Technology</td>\n",
       "      <td>tv future in the hands of viewers with home th...</td>\n",
       "    </tr>\n",
       "    <tr>\n",
       "      <th>1</th>\n",
       "      <td>Business</td>\n",
       "      <td>worldcom boss  left books alone  former worldc...</td>\n",
       "    </tr>\n",
       "    <tr>\n",
       "      <th>2</th>\n",
       "      <td>Sports</td>\n",
       "      <td>tigers wary of farrell  gamble  leicester say ...</td>\n",
       "    </tr>\n",
       "    <tr>\n",
       "      <th>3</th>\n",
       "      <td>Sports</td>\n",
       "      <td>yeading face newcastle in fa cup premiership s...</td>\n",
       "    </tr>\n",
       "    <tr>\n",
       "      <th>4</th>\n",
       "      <td>Entertainment</td>\n",
       "      <td>ocean s twelve raids box office ocean s twelve...</td>\n",
       "    </tr>\n",
       "  </tbody>\n",
       "</table>\n",
       "</div>"
      ],
      "text/plain": [
       "        Category                                            Article\n",
       "0     Technology  tv future in the hands of viewers with home th...\n",
       "1       Business  worldcom boss  left books alone  former worldc...\n",
       "2         Sports  tigers wary of farrell  gamble  leicester say ...\n",
       "3         Sports  yeading face newcastle in fa cup premiership s...\n",
       "4  Entertainment  ocean s twelve raids box office ocean s twelve..."
      ]
     },
     "execution_count": 42,
     "metadata": {},
     "output_type": "execute_result"
    }
   ],
   "source": [
    "data.head()"
   ]
  },
  {
   "cell_type": "code",
   "execution_count": 43,
   "metadata": {},
   "outputs": [
    {
     "name": "stdout",
     "output_type": "stream",
     "text": [
      "('howard hits back at mongrel jibe michael howard has said a claim by peter '\n",
      " 'hain that the tory leader is acting like an  attack mongrel  shows labour '\n",
      " 'is  rattled  by the opposition.  in an upbeat speech to his party s spring '\n",
      " 'conference in brighton  he said labour s campaigning tactics proved the '\n",
      " 'tories were hitting home. mr hain made the claim about tory tactics in the '\n",
      " 'anti-terror bill debate.  something tells me that someone  somewhere out '\n",
      " 'there is just a little bit rattled   mr howard said. mr hain  leader of the '\n",
      " 'commons  told bbc radio four s today programme that mr howard s stance on '\n",
      " 'the government s anti-terrorism legislation was putting the country at risk. '\n",
      " 'he then accused the tory leader of behaving like an  attack mongrel  and  '\n",
      " 'playing opposition for opposition sake .  mr howard told his party that '\n",
      " 'labour would  do anything  say anything  claim anything to cling on to '\n",
      " 'office at all costs .  so far this year they have compared me to fagin  to '\n",
      " 'shylock and to a flying pig. this morning peter hain even called me a '\n",
      " 'mongrel.  i don t know about you  but something tells me that someone  '\n",
      " 'somewhere out there is just a little bit rattled.  environment secretary '\n",
      " 'margaret beckett rejected mr howard s comment  telling radio 4 s pm '\n",
      " 'programme that labour was not  rattled .  we have a very real duty to try to '\n",
      " 'get people to focus on michael howard s record  what the proposals are that '\n",
      " 'he is trying to put forward to the country and also the many examples we are '\n",
      " 'seeing now of what we believe is really poor judgement on his behalf.   mr '\n",
      " 'howard said tory policies on schools  taxes  immigration and crime were '\n",
      " 'striking a chord with voters.   since the beginning of this year - election '\n",
      " 'year - we ve been making the political weather   he told the party '\n",
      " 'conference. mr howard denied he had been  playing politics  by raising the '\n",
      " 'case of margaret dixon  whose operation had been cancelled seven times  '\n",
      " 'which grabbed headlines for the party two weeks ago. and he hit back at '\n",
      " 'labour claims he had used mrs dixon as a  human shield .  she s not a human '\n",
      " 'shield mr blair  she s a human being.  mr howard said his party plans for '\n",
      " 'immigration quotas  which have also been the focus of much media coverage  '\n",
      " 'were not  racist  - just  common sense .  he pledged cleaner hospitals and '\n",
      " 'better school discipline  with a promise to get rid of  political '\n",
      " 'correctness  in the national curriculum and give everyone to the same chance '\n",
      " 'of a  decent  state education as he had.  i come from an ordinary family. if '\n",
      " 'the teenage michael howard were applying to cambridge today  gordon brown '\n",
      " 'would love me.   and he stressed his party s commitment to cut taxes and red '\n",
      " 'tape and increase the basic state pension in line with earnings. he finished '\n",
      " 'with a personal appeal to party activists to go out and win the next '\n",
      " 'election.  one day you will be able to tell your children and grandchildren '\n",
      " 'as i will tell mine   i was there. i did my bit. i played my part. i helped '\n",
      " 'to win that famous election - the election that transformed our country for '\n",
      " 'the better .  labour election co-ordinator alan milburn said:  michael '\n",
      " 'howard s speech today confirms what we have always said - that his only '\n",
      " 'strategy is opportunism but he has no forward vision for the country. in '\n",
      " 'reference to the appearance of mr howard s family on the conference stage '\n",
      " 'with him  mr milburn said:  michael howard is perfectly entitled to pose '\n",
      " 'with his family today.  but it is the hard working families across britain '\n",
      " 'that will be damaged by his plan to cut £35bn from public spending.')\n"
     ]
    }
   ],
   "source": [
    "article = data['Article'][5]\n",
    "pprint(article, compact=True)"
   ]
  },
  {
   "cell_type": "code",
   "execution_count": 44,
   "metadata": {},
   "outputs": [
    {
     "name": "stdout",
     "output_type": "stream",
     "text": [
      "('howard hits back at mongrel jibe michael howard has said a claim by peter '\n",
      " 'hain that the tory leader is acting like an  attack mongrel  shows labour '\n",
      " 'is  rattled  by the opposition.  in an upbeat speech to his party s spring '\n",
      " 'conference in brighton  he said labour s campaigning tactics proved the '\n",
      " 'tories were hitting home. mr hain made the claim about tory tactics in the '\n",
      " 'anti-terror bill debate.  something tells me that someone  somewhere out '\n",
      " 'there is just a little bit rattled   mr howard said. mr hain  leader of the '\n",
      " 'commons  told bbc radio four s today programme that mr howard s stance on '\n",
      " 'the government s anti-terrorism legislation was putting the country at risk. '\n",
      " 'he then accused the tory leader of behaving like an  attack mongrel  and  '\n",
      " 'playing opposition for opposition sake .  mr howard told his party that '\n",
      " 'labour would  do anything  say anything  claim anything to cling on to '\n",
      " 'office at all costs .  so far this year they have compared me to fagin  to '\n",
      " 'shylock and to a flying pig. this morning peter hain even called me a '\n",
      " 'mongrel.  i don t know about you  but something tells me that someone  '\n",
      " 'somewhere out there is just a little bit rattled.  environment secretary '\n",
      " 'margaret beckett rejected mr howard s comment  telling radio 4 s pm '\n",
      " 'programme that labour was not  rattled .  we have a very real duty to try to '\n",
      " 'get people to focus on michael howard s record  what the proposals are that '\n",
      " 'he is trying to put forward to the country and also the many examples we are '\n",
      " 'seeing now of what we believe is really poor judgement on his behalf.   mr '\n",
      " 'howard said tory policies on schools  taxes  immigration and crime were '\n",
      " 'striking a chord with voters.   since the beginning of this year - election '\n",
      " 'year - we ve been making the political weather   he told the party '\n",
      " 'conference. mr howard denied he had been  playing politics  by raising the '\n",
      " 'case of margaret dixon  whose operation had been cancelled seven times  '\n",
      " 'which grabbed headlines for the party two weeks ago. and he hit back at '\n",
      " 'labour claims he had used mrs dixon as a  human shield .  she s not a human '\n",
      " 'shield mr blair  she s a human being.  mr howard said his party plans for '\n",
      " 'immigration quotas  which have also been the focus of much media coverage  '\n",
      " 'were not  racist  - just  common sense .  he pledged cleaner hospitals and '\n",
      " 'better school discipline  with a promise to get rid of  political '\n",
      " 'correctness  in the national curriculum and give everyone to the same chance '\n",
      " 'of a  decent  state education as he had.  i come from an ordinary family. if '\n",
      " 'the teenage michael howard were applying to cambridge today  gordon brown '\n",
      " 'would love me.   and he stressed his party s commitment to cut taxes and red '\n",
      " 'tape and increase the basic state pension in line with earnings. he finished '\n",
      " 'with a personal appeal to party activists to go out and win the next '\n",
      " 'election.  one day you will be able to tell your children and grandchildren '\n",
      " 'as i will tell mine   i was there. i did my bit. i played my part. i helped '\n",
      " 'to win that famous election - the election that transformed our country for '\n",
      " 'the better .  labour election co-ordinator alan milburn said:  michael '\n",
      " 'howard s speech today confirms what we have always said - that his only '\n",
      " 'strategy is opportunism but he has no forward vision for the country. in '\n",
      " 'reference to the appearance of mr howard s family on the conference stage '\n",
      " 'with him  mr milburn said:  michael howard is perfectly entitled to pose '\n",
      " 'with his family today.  but it is the hard working families across britain '\n",
      " 'that will be damaged by his plan to cut £35bn from public spending.')\n"
     ]
    }
   ],
   "source": [
    "expanded_text = contractions.fix(article)\n",
    "pprint(expanded_text,compact=True)"
   ]
  },
  {
   "cell_type": "markdown",
   "metadata": {},
   "source": [
    "**Observation**\n",
    "> Above contraction.fix is not working because the contractions have words without aprostophe."
   ]
  },
  {
   "cell_type": "code",
   "execution_count": 45,
   "metadata": {},
   "outputs": [
    {
     "name": "stdout",
     "output_type": "stream",
     "text": [
      "i am happy but you are not. do not worry, it is fine.\n"
     ]
    }
   ],
   "source": [
    "# Step 1: Extract contractions and convert keys to lowercase\n",
    "contraction_map = {c.lower(): contractions.fix(c).lower() for c in contractions.contractions_dict.keys()}\n",
    "\n",
    "# Step 2: Create a modified version with spaces instead of apostrophes\n",
    "contraction_map_with_spaces = {k.replace(\"'\", \" \"): v for k, v in contraction_map.items()}\n",
    "\n",
    "# Step 3: Create regex pattern to match contractions with spaces\n",
    "pattern = re.compile(r'\\b(' + '|'.join(re.escape(k) for k in contraction_map_with_spaces.keys()) + r')\\b')\n",
    "\n",
    "# Step 4: Function to fix contractions in lowercase text\n",
    "def fix_contractions_with_spaces(text):\n",
    "    return pattern.sub(lambda x: contraction_map_with_spaces[x.group()], text)\n",
    "\n",
    "# Example: Article with incorrect contractions (lowercase)\n",
    "article = \"i m happy but you re not. don t worry, it s fine.\"\n",
    "\n",
    "# Step 5: Expand contractions\n",
    "fixed_article = fix_contractions_with_spaces(article)\n",
    "\n",
    "print(fixed_article)\n"
   ]
  },
  {
   "cell_type": "code",
   "execution_count": 46,
   "metadata": {},
   "outputs": [
    {
     "data": {
      "text/plain": [
       "'i am happi my name is sainath'"
      ]
     },
     "execution_count": 46,
     "metadata": {},
     "output_type": "execute_result"
    }
   ],
   "source": [
    "fix_contractions_with_spaces(\"i m happi my name is sainath\")"
   ]
  },
  {
   "cell_type": "code",
   "execution_count": 47,
   "metadata": {},
   "outputs": [
    {
     "name": "stdout",
     "output_type": "stream",
     "text": [
      "('howard hits back at mongrel jibe michael howard has said a claim by peter '\n",
      " 'hain that the tory leader is acting like an  attack mongrel  shows labour '\n",
      " 'is  rattled  by the opposition.  in an upbeat speech to his party s spring '\n",
      " 'conference in brighton  he said labour s campaigning tactics proved the '\n",
      " 'tories were hitting home. mr hain made the claim about tory tactics in the '\n",
      " 'anti-terror bill debate.  something tells me that someone  somewhere out '\n",
      " 'there is just a little bit rattled   mr howard said. mr hain  leader of the '\n",
      " 'commons  told bbc radio four s today programme that mr howard s stance on '\n",
      " 'the government s anti-terrorism legislation was putting the country at risk. '\n",
      " 'he then accused the tory leader of behaving like an  attack mongrel  and  '\n",
      " 'playing opposition for opposition sake .  mr howard told his party that '\n",
      " 'labour would  do anything  say anything  claim anything to cling on to '\n",
      " 'office at all costs .  so far this year they have compared me to fagin  to '\n",
      " 'shylock and to a flying pig. this morning peter hain even called me a '\n",
      " 'mongrel.  i don t know about you  but something tells me that someone  '\n",
      " 'somewhere out there is just a little bit rattled.  environment secretary '\n",
      " 'margaret beckett rejected mr howard s comment  telling radio 4 s pm '\n",
      " 'programme that labour was not  rattled .  we have a very real duty to try to '\n",
      " 'get people to focus on michael howard s record  what the proposals are that '\n",
      " 'he is trying to put forward to the country and also the many examples we are '\n",
      " 'seeing now of what we believe is really poor judgement on his behalf.   mr '\n",
      " 'howard said tory policies on schools  taxes  immigration and crime were '\n",
      " 'striking a chord with voters.   since the beginning of this year - election '\n",
      " 'year - we ve been making the political weather   he told the party '\n",
      " 'conference. mr howard denied he had been  playing politics  by raising the '\n",
      " 'case of margaret dixon  whose operation had been cancelled seven times  '\n",
      " 'which grabbed headlines for the party two weeks ago. and he hit back at '\n",
      " 'labour claims he had used mrs dixon as a  human shield .  she s not a human '\n",
      " 'shield mr blair  she s a human being.  mr howard said his party plans for '\n",
      " 'immigration quotas  which have also been the focus of much media coverage  '\n",
      " 'were not  racist  - just  common sense .  he pledged cleaner hospitals and '\n",
      " 'better school discipline  with a promise to get rid of  political '\n",
      " 'correctness  in the national curriculum and give everyone to the same chance '\n",
      " 'of a  decent  state education as he had.  i come from an ordinary family. if '\n",
      " 'the teenage michael howard were applying to cambridge today  gordon brown '\n",
      " 'would love me.   and he stressed his party s commitment to cut taxes and red '\n",
      " 'tape and increase the basic state pension in line with earnings. he finished '\n",
      " 'with a personal appeal to party activists to go out and win the next '\n",
      " 'election.  one day you will be able to tell your children and grandchildren '\n",
      " 'as i will tell mine   i was there. i did my bit. i played my part. i helped '\n",
      " 'to win that famous election - the election that transformed our country for '\n",
      " 'the better .  labour election co-ordinator alan milburn said:  michael '\n",
      " 'howard s speech today confirms what we have always said - that his only '\n",
      " 'strategy is opportunism but he has no forward vision for the country. in '\n",
      " 'reference to the appearance of mr howard s family on the conference stage '\n",
      " 'with him  mr milburn said:  michael howard is perfectly entitled to pose '\n",
      " 'with his family today.  but it is the hard working families across britain '\n",
      " 'that will be damaged by his plan to cut £35bn from public spending.')\n"
     ]
    }
   ],
   "source": [
    "pprint(data['Article'][5], compact=True)"
   ]
  },
  {
   "cell_type": "code",
   "execution_count": 48,
   "metadata": {},
   "outputs": [
    {
     "name": "stdout",
     "output_type": "stream",
     "text": [
      "('howard hits back at mongrel jibe michael howard has said a claim by peter '\n",
      " 'hain that the tory leader is acting like an  attack mongrel  shows labour '\n",
      " 'is  rattled  by the opposition.  in an upbeat speech to his party s spring '\n",
      " 'conference in brighton  he said labour s campaigning tactics proved the '\n",
      " 'tories were hitting home. mr hain made the claim about tory tactics in the '\n",
      " 'anti-terror bill debate.  something tells me that someone  somewhere out '\n",
      " 'there is just a little bit rattled   mr howard said. mr hain  leader of the '\n",
      " 'commons  told bbc radio four s today programme that mr howard s stance on '\n",
      " 'the government s anti-terrorism legislation was putting the country at risk. '\n",
      " 'he then accused the tory leader of behaving like an  attack mongrel  and  '\n",
      " 'playing opposition for opposition sake .  mr howard told his party that '\n",
      " 'labour would  do anything  say anything  claim anything to cling on to '\n",
      " 'office at all costs .  so far this year they have compared me to fagin  to '\n",
      " 'shylock and to a flying pig. this morning peter hain even called me a '\n",
      " 'mongrel.  i do not know about you  but something tells me that someone  '\n",
      " 'somewhere out there is just a little bit rattled.  environment secretary '\n",
      " 'margaret beckett rejected mr howard s comment  telling radio 4 s pm '\n",
      " 'programme that labour was not  rattled .  we have a very real duty to try to '\n",
      " 'get people to focus on michael howard s record  what the proposals are that '\n",
      " 'he is trying to put forward to the country and also the many examples we are '\n",
      " 'seeing now of what we believe is really poor judgement on his behalf.   mr '\n",
      " 'howard said tory policies on schools  taxes  immigration and crime were '\n",
      " 'striking a chord with voters.   since the beginning of this year - election '\n",
      " 'year - we have been making the political weather   he told the party '\n",
      " 'conference. mr howard denied he had been  playing politics  by raising the '\n",
      " 'case of margaret dixon  whose operation had been cancelled seven times  '\n",
      " 'which grabbed headlines for the party two weeks ago. and he hit back at '\n",
      " 'labour claims he had used mrs dixon as a  human shield .  she is not a human '\n",
      " 'shield mr blair  she is a human being.  mr howard said his party plans for '\n",
      " 'immigration quotas  which have also been the focus of much media coverage  '\n",
      " 'were not  racist  - just  common sense .  he pledged cleaner hospitals and '\n",
      " 'better school discipline  with a promise to get rid of  political '\n",
      " 'correctness  in the national curriculum and give everyone to the same chance '\n",
      " 'of a  decent  state education as he had.  i come from an ordinary family. if '\n",
      " 'the teenage michael howard were applying to cambridge today  gordon brown '\n",
      " 'would love me.   and he stressed his party s commitment to cut taxes and red '\n",
      " 'tape and increase the basic state pension in line with earnings. he finished '\n",
      " 'with a personal appeal to party activists to go out and win the next '\n",
      " 'election.  one day you will be able to tell your children and grandchildren '\n",
      " 'as i will tell mine   i was there. i did my bit. i played my part. i helped '\n",
      " 'to win that famous election - the election that transformed our country for '\n",
      " 'the better .  labour election co-ordinator alan milburn said:  michael '\n",
      " 'howard s speech today confirms what we have always said - that his only '\n",
      " 'strategy is opportunism but he has no forward vision for the country. in '\n",
      " 'reference to the appearance of mr howard s family on the conference stage '\n",
      " 'with him  mr milburn said:  michael howard is perfectly entitled to pose '\n",
      " 'with his family today.  but it is the hard working families across britain '\n",
      " 'that will be damaged by his plan to cut £35bn from public spending.')\n"
     ]
    }
   ],
   "source": [
    "pprint(fix_contractions_with_spaces(data['Article'][5]))"
   ]
  },
  {
   "cell_type": "code",
   "execution_count": 49,
   "metadata": {},
   "outputs": [],
   "source": [
    "# Applying expansion of contractions to all articles\n",
    "expanded_data = data.copy(deep = True)\n",
    "expanded_data['Article'] = expanded_data['Article'].apply(fix_contractions_with_spaces)"
   ]
  },
  {
   "cell_type": "code",
   "execution_count": 50,
   "metadata": {},
   "outputs": [
    {
     "name": "stdout",
     "output_type": "stream",
     "text": [
      "('howard hits back at mongrel jibe michael howard has said a claim by peter '\n",
      " 'hain that the tory leader is acting like an  attack mongrel  shows labour '\n",
      " 'is  rattled  by the opposition.  in an upbeat speech to his party s spring '\n",
      " 'conference in brighton  he said labour s campaigning tactics proved the '\n",
      " 'tories were hitting home. mr hain made the claim about tory tactics in the '\n",
      " 'anti-terror bill debate.  something tells me that someone  somewhere out '\n",
      " 'there is just a little bit rattled   mr howard said. mr hain  leader of the '\n",
      " 'commons  told bbc radio four s today programme that mr howard s stance on '\n",
      " 'the government s anti-terrorism legislation was putting the country at risk. '\n",
      " 'he then accused the tory leader of behaving like an  attack mongrel  and  '\n",
      " 'playing opposition for opposition sake .  mr howard told his party that '\n",
      " 'labour would  do anything  say anything  claim anything to cling on to '\n",
      " 'office at all costs .  so far this year they have compared me to fagin  to '\n",
      " 'shylock and to a flying pig. this morning peter hain even called me a '\n",
      " 'mongrel.  i do not know about you  but something tells me that someone  '\n",
      " 'somewhere out there is just a little bit rattled.  environment secretary '\n",
      " 'margaret beckett rejected mr howard s comment  telling radio 4 s pm '\n",
      " 'programme that labour was not  rattled .  we have a very real duty to try to '\n",
      " 'get people to focus on michael howard s record  what the proposals are that '\n",
      " 'he is trying to put forward to the country and also the many examples we are '\n",
      " 'seeing now of what we believe is really poor judgement on his behalf.   mr '\n",
      " 'howard said tory policies on schools  taxes  immigration and crime were '\n",
      " 'striking a chord with voters.   since the beginning of this year - election '\n",
      " 'year - we have been making the political weather   he told the party '\n",
      " 'conference. mr howard denied he had been  playing politics  by raising the '\n",
      " 'case of margaret dixon  whose operation had been cancelled seven times  '\n",
      " 'which grabbed headlines for the party two weeks ago. and he hit back at '\n",
      " 'labour claims he had used mrs dixon as a  human shield .  she is not a human '\n",
      " 'shield mr blair  she is a human being.  mr howard said his party plans for '\n",
      " 'immigration quotas  which have also been the focus of much media coverage  '\n",
      " 'were not  racist  - just  common sense .  he pledged cleaner hospitals and '\n",
      " 'better school discipline  with a promise to get rid of  political '\n",
      " 'correctness  in the national curriculum and give everyone to the same chance '\n",
      " 'of a  decent  state education as he had.  i come from an ordinary family. if '\n",
      " 'the teenage michael howard were applying to cambridge today  gordon brown '\n",
      " 'would love me.   and he stressed his party s commitment to cut taxes and red '\n",
      " 'tape and increase the basic state pension in line with earnings. he finished '\n",
      " 'with a personal appeal to party activists to go out and win the next '\n",
      " 'election.  one day you will be able to tell your children and grandchildren '\n",
      " 'as i will tell mine   i was there. i did my bit. i played my part. i helped '\n",
      " 'to win that famous election - the election that transformed our country for '\n",
      " 'the better .  labour election co-ordinator alan milburn said:  michael '\n",
      " 'howard s speech today confirms what we have always said - that his only '\n",
      " 'strategy is opportunism but he has no forward vision for the country. in '\n",
      " 'reference to the appearance of mr howard s family on the conference stage '\n",
      " 'with him  mr milburn said:  michael howard is perfectly entitled to pose '\n",
      " 'with his family today.  but it is the hard working families across britain '\n",
      " 'that will be damaged by his plan to cut £35bn from public spending.')\n"
     ]
    }
   ],
   "source": [
    "pprint(expanded_data['Article'][5])"
   ]
  },
  {
   "cell_type": "markdown",
   "metadata": {},
   "source": [
    "## TEXT TO VECTORS"
   ]
  },
  {
   "cell_type": "markdown",
   "metadata": {},
   "source": [
    "### BOW using Count vectorizer after removing stop words"
   ]
  },
  {
   "cell_type": "code",
   "execution_count": 51,
   "metadata": {},
   "outputs": [
    {
     "data": {
      "text/plain": [
       "00             0\n",
       "000            1\n",
       "0001           0\n",
       "000bn          0\n",
       "000m           0\n",
       "              ..\n",
       "zuluaga        0\n",
       "zurich         0\n",
       "zutons         0\n",
       "zvonareva      0\n",
       "zvyagintsev    0\n",
       "Name: worldcom boss  left books alone  former worldcom boss bernie ebbers  who is accused of overseeing an $11bn (£5.8bn) fraud  never made accounting decisions  a witness has told jurors.  david myers made the comments under questioning by defence lawyers who have been arguing that mr ebbers was not responsible for worldcom s problems. the phone company collapsed in 2002 and prosecutors claim that losses were hidden to protect the firm s shares. mr myers has already pleaded guilty to fraud and is assisting prosecutors.  on monday  defence lawyer reid weingarten tried to distance his client from the allegations. during cross examination  he asked mr myers if he ever knew mr ebbers  make an accounting decision  .  not that i am aware of   mr myers replied.  did you ever know mr ebbers to make an accounting entry into worldcom books   mr weingarten pressed.  no   replied the witness. mr myers has admitted that he ordered false accounting entries at the request of former worldcom chief financial officer scott sullivan. defence lawyers have been trying to paint mr sullivan  who has admitted fraud and will testify later in the trial  as the mastermind behind worldcom s accounting house of cards.  mr ebbers  team  meanwhile  are looking to portray him as an affable boss  who by his own admission is more pe graduate than economist. whatever his abilities  mr ebbers transformed worldcom from a relative unknown into a $160bn telecoms giant and investor darling of the late 1990s. worldcom s problems mounted  however  as competition increased and the telecoms boom petered out. when the firm finally collapsed  shareholders lost about $180bn and 20 000 workers lost their jobs. mr ebbers  trial is expected to last two months and if found guilty the former ceo faces a substantial jail sentence. he has firmly declared his innocence., Length: 29157, dtype: int64"
      ]
     },
     "metadata": {},
     "output_type": "display_data"
    }
   ],
   "source": [
    "# using CountVectorizer for removing stop-words directly from the corpus.\n",
    "corpus = expanded_data['Article']\n",
    "cv = CountVectorizer(stop_words=\"english\")\n",
    "bow_rep = cv.fit_transform(corpus).todense()\n",
    "expanded_bow = pd.DataFrame(bow_rep)\n",
    "expanded_bow.columns = cv.get_feature_names_out()\n",
    "expanded_bow.index = corpus\n",
    "display(expanded_bow.iloc[1])"
   ]
  },
  {
   "cell_type": "code",
   "execution_count": 52,
   "metadata": {},
   "outputs": [
    {
     "data": {
      "text/plain": [
       "000           1\n",
       "11bn          1\n",
       "160bn         1\n",
       "180bn         1\n",
       "1990s         1\n",
       "             ..\n",
       "unknown       1\n",
       "weingarten    2\n",
       "witness       2\n",
       "workers       1\n",
       "worldcom      8\n",
       "Name: worldcom boss  left books alone  former worldcom boss bernie ebbers  who is accused of overseeing an $11bn (£5.8bn) fraud  never made accounting decisions  a witness has told jurors.  david myers made the comments under questioning by defence lawyers who have been arguing that mr ebbers was not responsible for worldcom s problems. the phone company collapsed in 2002 and prosecutors claim that losses were hidden to protect the firm s shares. mr myers has already pleaded guilty to fraud and is assisting prosecutors.  on monday  defence lawyer reid weingarten tried to distance his client from the allegations. during cross examination  he asked mr myers if he ever knew mr ebbers  make an accounting decision  .  not that i am aware of   mr myers replied.  did you ever know mr ebbers to make an accounting entry into worldcom books   mr weingarten pressed.  no   replied the witness. mr myers has admitted that he ordered false accounting entries at the request of former worldcom chief financial officer scott sullivan. defence lawyers have been trying to paint mr sullivan  who has admitted fraud and will testify later in the trial  as the mastermind behind worldcom s accounting house of cards.  mr ebbers  team  meanwhile  are looking to portray him as an affable boss  who by his own admission is more pe graduate than economist. whatever his abilities  mr ebbers transformed worldcom from a relative unknown into a $160bn telecoms giant and investor darling of the late 1990s. worldcom s problems mounted  however  as competition increased and the telecoms boom petered out. when the firm finally collapsed  shareholders lost about $180bn and 20 000 workers lost their jobs. mr ebbers  trial is expected to last two months and if found guilty the former ceo faces a substantial jail sentence. he has firmly declared his innocence., Length: 120, dtype: int64"
      ]
     },
     "metadata": {},
     "output_type": "display_data"
    }
   ],
   "source": [
    "# Display only words with TF-IDF > 0 for the second document\n",
    "filtered_bow = expanded_bow.iloc[1][expanded_bow.iloc[1] > 0]\n",
    "\n",
    "# Show the filtered TF-IDF values\n",
    "display(filtered_bow)"
   ]
  },
  {
   "cell_type": "code",
   "execution_count": 53,
   "metadata": {},
   "outputs": [
    {
     "name": "stdout",
     "output_type": "stream",
     "text": [
      "Cosine Distance\n",
      "0.9006334644803842\n"
     ]
    }
   ],
   "source": [
    "x = expanded_bow.iloc[0]\n",
    "y = expanded_bow.iloc[100]\n",
    "# calculate cosine distance\n",
    "def cosine_distance(x, y):\n",
    "    return 1 - np.dot(x, y) / (np.sqrt(np.dot(x, x)) * np.sqrt(np.dot(y, y)))\n",
    "\n",
    "print(\"Cosine Distance\")\n",
    "print(\"{}\".format(cosine_distance(x, y)))"
   ]
  },
  {
   "cell_type": "code",
   "execution_count": 54,
   "metadata": {},
   "outputs": [
    {
     "name": "stdout",
     "output_type": "stream",
     "text": [
      "Cosine Distance\n",
      "Between worldcom and witness : 0.35695870295552445\n"
     ]
    }
   ],
   "source": [
    "x = expanded_bow[\"witness\"]\n",
    "y = expanded_bow[\"worldcom\"]\n",
    "# calculate cosine distance\n",
    "def cosine_distance(x, y):\n",
    "    return 1 - np.dot(x, y) / (np.sqrt(np.dot(x, x)) * np.sqrt(np.dot(y, y)))\n",
    "\n",
    "print(\"Cosine Distance\")\n",
    "print(\"Between {} and {} : {}\".format(\"worldcom\", \"witness\", cosine_distance(x, y)))"
   ]
  },
  {
   "cell_type": "markdown",
   "metadata": {},
   "source": [
    "### TF-IDF using TfidfVectorizer"
   ]
  },
  {
   "cell_type": "code",
   "execution_count": 55,
   "metadata": {},
   "outputs": [
    {
     "data": {
      "text/plain": [
       "00             0.000000\n",
       "000            0.023787\n",
       "0001           0.000000\n",
       "000bn          0.000000\n",
       "000m           0.000000\n",
       "                 ...   \n",
       "zuluaga        0.000000\n",
       "zurich         0.000000\n",
       "zutons         0.000000\n",
       "zvonareva      0.000000\n",
       "zvyagintsev    0.000000\n",
       "Name: worldcom boss  left books alone  former worldcom boss bernie ebbers  who is accused of overseeing an $11bn (£5.8bn) fraud  never made accounting decisions  a witness has told jurors.  david myers made the comments under questioning by defence lawyers who have been arguing that mr ebbers was not responsible for worldcom s problems. the phone company collapsed in 2002 and prosecutors claim that losses were hidden to protect the firm s shares. mr myers has already pleaded guilty to fraud and is assisting prosecutors.  on monday  defence lawyer reid weingarten tried to distance his client from the allegations. during cross examination  he asked mr myers if he ever knew mr ebbers  make an accounting decision  .  not that i am aware of   mr myers replied.  did you ever know mr ebbers to make an accounting entry into worldcom books   mr weingarten pressed.  no   replied the witness. mr myers has admitted that he ordered false accounting entries at the request of former worldcom chief financial officer scott sullivan. defence lawyers have been trying to paint mr sullivan  who has admitted fraud and will testify later in the trial  as the mastermind behind worldcom s accounting house of cards.  mr ebbers  team  meanwhile  are looking to portray him as an affable boss  who by his own admission is more pe graduate than economist. whatever his abilities  mr ebbers transformed worldcom from a relative unknown into a $160bn telecoms giant and investor darling of the late 1990s. worldcom s problems mounted  however  as competition increased and the telecoms boom petered out. when the firm finally collapsed  shareholders lost about $180bn and 20 000 workers lost their jobs. mr ebbers  trial is expected to last two months and if found guilty the former ceo faces a substantial jail sentence. he has firmly declared his innocence., Length: 29157, dtype: float64"
      ]
     },
     "metadata": {},
     "output_type": "display_data"
    }
   ],
   "source": [
    "# using inbuilt TfidfVectorizer() function to calculate TF-IDF\n",
    "tf_idf_vectorizer = TfidfVectorizer(stop_words = \"english\")\n",
    "tf_idf_rep = tf_idf_vectorizer.fit_transform(corpus).todense()\n",
    "expanded_tf_idf = pd.DataFrame(tf_idf_rep)\n",
    "expanded_tf_idf.columns = tf_idf_vectorizer.get_feature_names_out()\n",
    "expanded_tf_idf.index = corpus\n",
    "display(expanded_tf_idf.iloc[1])"
   ]
  },
  {
   "cell_type": "code",
   "execution_count": 56,
   "metadata": {},
   "outputs": [
    {
     "data": {
      "text/plain": [
       "000           0.023787\n",
       "11bn          0.055460\n",
       "160bn         0.071836\n",
       "180bn         0.062576\n",
       "1990s         0.046700\n",
       "                ...   \n",
       "unknown       0.054921\n",
       "weingarten    0.138240\n",
       "witness       0.114587\n",
       "workers       0.041833\n",
       "worldcom      0.448261\n",
       "Name: worldcom boss  left books alone  former worldcom boss bernie ebbers  who is accused of overseeing an $11bn (£5.8bn) fraud  never made accounting decisions  a witness has told jurors.  david myers made the comments under questioning by defence lawyers who have been arguing that mr ebbers was not responsible for worldcom s problems. the phone company collapsed in 2002 and prosecutors claim that losses were hidden to protect the firm s shares. mr myers has already pleaded guilty to fraud and is assisting prosecutors.  on monday  defence lawyer reid weingarten tried to distance his client from the allegations. during cross examination  he asked mr myers if he ever knew mr ebbers  make an accounting decision  .  not that i am aware of   mr myers replied.  did you ever know mr ebbers to make an accounting entry into worldcom books   mr weingarten pressed.  no   replied the witness. mr myers has admitted that he ordered false accounting entries at the request of former worldcom chief financial officer scott sullivan. defence lawyers have been trying to paint mr sullivan  who has admitted fraud and will testify later in the trial  as the mastermind behind worldcom s accounting house of cards.  mr ebbers  team  meanwhile  are looking to portray him as an affable boss  who by his own admission is more pe graduate than economist. whatever his abilities  mr ebbers transformed worldcom from a relative unknown into a $160bn telecoms giant and investor darling of the late 1990s. worldcom s problems mounted  however  as competition increased and the telecoms boom petered out. when the firm finally collapsed  shareholders lost about $180bn and 20 000 workers lost their jobs. mr ebbers  trial is expected to last two months and if found guilty the former ceo faces a substantial jail sentence. he has firmly declared his innocence., Length: 120, dtype: float64"
      ]
     },
     "metadata": {},
     "output_type": "display_data"
    }
   ],
   "source": [
    "# Display only words with TF-IDF > 0 for the second document\n",
    "filtered_tf_idf = expanded_tf_idf.iloc[1][expanded_tf_idf.iloc[1] > 0]\n",
    "\n",
    "# Show the filtered TF-IDF values\n",
    "display(filtered_tf_idf)"
   ]
  },
  {
   "cell_type": "code",
   "execution_count": 57,
   "metadata": {},
   "outputs": [
    {
     "name": "stdout",
     "output_type": "stream",
     "text": [
      "Cosine Distance\n",
      "0.9203546618891247\n"
     ]
    }
   ],
   "source": [
    "x = expanded_tf_idf.iloc[0]\n",
    "y = expanded_tf_idf.iloc[100]\n",
    "# calculate cosine distance\n",
    "def cosine_distance(x, y):\n",
    "    return 1 - np.dot(x, y) / (np.sqrt(np.dot(x, x)) * np.sqrt(np.dot(y, y)))\n",
    "\n",
    "print(\"Cosine Distance\")\n",
    "print(\"{}\".format(cosine_distance(x, y)))"
   ]
  },
  {
   "cell_type": "code",
   "execution_count": 58,
   "metadata": {},
   "outputs": [
    {
     "name": "stdout",
     "output_type": "stream",
     "text": [
      "Cosine Distance\n",
      "Between worldcom and witness : 0.39533476865983197\n"
     ]
    }
   ],
   "source": [
    "x = expanded_tf_idf[\"witness\"]\n",
    "y = expanded_tf_idf[\"worldcom\"]\n",
    "# calculate cosine distance\n",
    "def cosine_distance(x, y):\n",
    "    return 1 - np.dot(x, y) / (np.sqrt(np.dot(x, x)) * np.sqrt(np.dot(y, y)))\n",
    "\n",
    "print(\"Cosine Distance\")\n",
    "print(\"Between {} and {} : {}\".format(\"worldcom\", \"witness\", cosine_distance(x, y)))"
   ]
  },
  {
   "cell_type": "markdown",
   "metadata": {},
   "source": [
    "### TF_IDF for Bigram/ngram (1,2)"
   ]
  },
  {
   "cell_type": "code",
   "execution_count": 59,
   "metadata": {},
   "outputs": [
    {
     "data": {
      "text/plain": [
       "00                     0.0\n",
       "00 59                  0.0\n",
       "00 early               0.0\n",
       "00 mark                0.0\n",
       "00 minute              0.0\n",
       "                      ... \n",
       "zvonareva russia       0.0\n",
       "zvonareva struggled    0.0\n",
       "zvonareva wimbledon    0.0\n",
       "zvyagintsev            0.0\n",
       "zvyagintsev return     0.0\n",
       "Name: worldcom boss  left books alone  former worldcom boss bernie ebbers  who is accused of overseeing an $11bn (£5.8bn) fraud  never made accounting decisions  a witness has told jurors.  david myers made the comments under questioning by defence lawyers who have been arguing that mr ebbers was not responsible for worldcom s problems. the phone company collapsed in 2002 and prosecutors claim that losses were hidden to protect the firm s shares. mr myers has already pleaded guilty to fraud and is assisting prosecutors.  on monday  defence lawyer reid weingarten tried to distance his client from the allegations. during cross examination  he asked mr myers if he ever knew mr ebbers  make an accounting decision  .  not that i am aware of   mr myers replied.  did you ever know mr ebbers to make an accounting entry into worldcom books   mr weingarten pressed.  no   replied the witness. mr myers has admitted that he ordered false accounting entries at the request of former worldcom chief financial officer scott sullivan. defence lawyers have been trying to paint mr sullivan  who has admitted fraud and will testify later in the trial  as the mastermind behind worldcom s accounting house of cards.  mr ebbers  team  meanwhile  are looking to portray him as an affable boss  who by his own admission is more pe graduate than economist. whatever his abilities  mr ebbers transformed worldcom from a relative unknown into a $160bn telecoms giant and investor darling of the late 1990s. worldcom s problems mounted  however  as competition increased and the telecoms boom petered out. when the firm finally collapsed  shareholders lost about $180bn and 20 000 workers lost their jobs. mr ebbers  trial is expected to last two months and if found guilty the former ceo faces a substantial jail sentence. he has firmly declared his innocence., Length: 348794, dtype: float64"
      ]
     },
     "metadata": {},
     "output_type": "display_data"
    }
   ],
   "source": [
    "# Bigram using TfidfVectorizer\n",
    "tf_idf_vectorizer = TfidfVectorizer(ngram_range=(1,2),stop_words=\"english\")\n",
    "tf_idf_rep = tf_idf_vectorizer.fit_transform(corpus).todense()\n",
    "expanded_tf_idf_bigram = pd.DataFrame(tf_idf_rep)\n",
    "expanded_tf_idf_bigram.columns = tf_idf_vectorizer.get_feature_names_out()\n",
    "expanded_tf_idf_bigram.index = corpus\n",
    "display(expanded_tf_idf_bigram.iloc[1])"
   ]
  },
  {
   "cell_type": "code",
   "execution_count": 60,
   "metadata": {},
   "outputs": [
    {
     "data": {
      "text/plain": [
       "000                  0.016329\n",
       "000 workers          0.040893\n",
       "11bn                 0.038072\n",
       "11bn 8bn             0.051941\n",
       "160bn                0.049313\n",
       "                       ...   \n",
       "worldcom books       0.051941\n",
       "worldcom boss        0.089642\n",
       "worldcom chief       0.044821\n",
       "worldcom problems    0.094898\n",
       "worldcom relative    0.051941\n",
       "Name: worldcom boss  left books alone  former worldcom boss bernie ebbers  who is accused of overseeing an $11bn (£5.8bn) fraud  never made accounting decisions  a witness has told jurors.  david myers made the comments under questioning by defence lawyers who have been arguing that mr ebbers was not responsible for worldcom s problems. the phone company collapsed in 2002 and prosecutors claim that losses were hidden to protect the firm s shares. mr myers has already pleaded guilty to fraud and is assisting prosecutors.  on monday  defence lawyer reid weingarten tried to distance his client from the allegations. during cross examination  he asked mr myers if he ever knew mr ebbers  make an accounting decision  .  not that i am aware of   mr myers replied.  did you ever know mr ebbers to make an accounting entry into worldcom books   mr weingarten pressed.  no   replied the witness. mr myers has admitted that he ordered false accounting entries at the request of former worldcom chief financial officer scott sullivan. defence lawyers have been trying to paint mr sullivan  who has admitted fraud and will testify later in the trial  as the mastermind behind worldcom s accounting house of cards.  mr ebbers  team  meanwhile  are looking to portray him as an affable boss  who by his own admission is more pe graduate than economist. whatever his abilities  mr ebbers transformed worldcom from a relative unknown into a $160bn telecoms giant and investor darling of the late 1990s. worldcom s problems mounted  however  as competition increased and the telecoms boom petered out. when the firm finally collapsed  shareholders lost about $180bn and 20 000 workers lost their jobs. mr ebbers  trial is expected to last two months and if found guilty the former ceo faces a substantial jail sentence. he has firmly declared his innocence., Length: 280, dtype: float64"
      ]
     },
     "metadata": {},
     "output_type": "display_data"
    }
   ],
   "source": [
    "# Display only words with TF-IDF > 0 for the second document\n",
    "filtered_tf_idf_bigram = expanded_tf_idf_bigram.iloc[1][expanded_tf_idf_bigram.iloc[1] > 0]\n",
    "\n",
    "# Show the filtered TF-IDF values\n",
    "display(filtered_tf_idf_bigram)"
   ]
  },
  {
   "cell_type": "markdown",
   "metadata": {},
   "source": [
    "### Preporcessing"
   ]
  },
  {
   "cell_type": "code",
   "execution_count": 61,
   "metadata": {},
   "outputs": [],
   "source": [
    "def process_sentence(sentence, nlp_object):\n",
    "    # Convert to lowercase\n",
    "    sentence = sentence.lower()\n",
    "\n",
    "    # Exapnding contractions\n",
    "    sentence = contractions.fix(sentence)\n",
    "\n",
    "    # Lemmatization and removing stopwords\n",
    "    doc = nlp_object(sentence)\n",
    "    sentence = \" \".join([token.lemma_ for token in doc if not token.is_stop])\n",
    "\n",
    "    # Remove punctuation\n",
    "    for p in string.punctuation:\n",
    "        sentence = sentence.replace(p, \" \")\n",
    "    sentence = re.sub(r\"\\s+\", \" \", sentence) # Replace all whitespace characters with space\n",
    "\n",
    "    return sentence"
   ]
  },
  {
   "cell_type": "code",
   "execution_count": 64,
   "metadata": {},
   "outputs": [
    {
     "data": {
      "application/vnd.jupyter.widget-view+json": {
       "model_id": "0e4a5d7277604a43984c83aa181efcbd",
       "version_major": 2,
       "version_minor": 0
      },
      "text/plain": [
       "  0%|          | 0/2225 [00:00<?, ?it/s]"
      ]
     },
     "metadata": {},
     "output_type": "display_data"
    }
   ],
   "source": [
    "# tqdm to see real time progress\n",
    "tqdm.pandas()\n",
    "\n",
    "expanded_data_modified = expanded_data.copy(deep = True)\n",
    "nlp = spacy.load('en_core_web_sm') # English pipeline optimized for CPU\n",
    "\n",
    "def process_article(article_text, nlp_object):\n",
    "    processed_article_sentences = []\n",
    "    # using nltk sentence tokenizer\n",
    "    for sentence in sent_tokenize(article_text):\n",
    "        # preprocessing each sentence using our process_sentence function\n",
    "        processed_article_sentences.append(process_sentence(sentence, nlp_object))\n",
    "    # joining preprocessed sentence as a complete paragrams of the article\n",
    "    return \" \".join(processed_article_sentences)\n",
    "\n",
    "expanded_data_modified[\"processed_text\"] = expanded_data_modified[\"Article\"].progress_apply(lambda x : process_article(x, nlp))\n"
   ]
  },
  {
   "cell_type": "code",
   "execution_count": 65,
   "metadata": {},
   "outputs": [
    {
     "data": {
      "text/plain": [
       "'worldcom boss leave book worldcom boss bernie ebbers accuse oversee 11bn £ 5 8bn fraud accounting decision witness tell juror  david myers comment questioning defence lawyer argue mr ebber responsible worldcom s problem  phone company collapse 2002 prosecutor claim loss hide protect firm s share  mr myers plead guilty fraud assist prosecutor  monday defence lawyer reid weingarten try distance client allegation  cross examination ask mr myers know mr ebber accounting decision  aware mr myers reply  know mr ebber accounting entry worldcom book mr weingarten press   reply witness  mr myers admit order false accounting entry request worldcom chief financial officer scott sullivan  defence lawyer try paint mr sullivan admit fraud testify later trial mastermind worldcom s accounting house card  mr ebber team look portray affable boss admission pe graduate economist  ability mr ebber transform worldcom relative unknown 160bn telecom giant investor darling late 1990  worldcom s problem mount competition increase telecom boom petere  firm finally collapse shareholder lose 180bn 20 000 worker lose job  mr ebber trial expect month find guilty ceo face substantial jail sentence  firmly declare innocence '"
      ]
     },
     "execution_count": 65,
     "metadata": {},
     "output_type": "execute_result"
    }
   ],
   "source": [
    "expanded_data_modified[\"processed_text\"].iloc[1]"
   ]
  },
  {
   "cell_type": "markdown",
   "metadata": {},
   "source": [
    "### Similarity using BOW"
   ]
  },
  {
   "cell_type": "code",
   "execution_count": 70,
   "metadata": {},
   "outputs": [
    {
     "data": {
      "text/plain": [
       "Index(['Category', 'Article', 'processed_text'], dtype='object')"
      ]
     },
     "execution_count": 70,
     "metadata": {},
     "output_type": "execute_result"
    }
   ],
   "source": [
    "expanded_data_modified.columns"
   ]
  },
  {
   "cell_type": "code",
   "execution_count": 71,
   "metadata": {},
   "outputs": [
    {
     "data": {
      "text/plain": [
       "00                                                          0\n",
       "000                                                         1\n",
       "01                                                          0\n",
       "03                                                          0\n",
       "04                                                          0\n",
       "                                  ...                        \n",
       "zone                                                        0\n",
       "zoom                                                        0\n",
       "zurich                                                      0\n",
       "Article     worldcom boss  left books alone  former worldc...\n",
       "Category                                             Business\n",
       "Name: 1, Length: 7141, dtype: object"
      ]
     },
     "metadata": {},
     "output_type": "display_data"
    }
   ],
   "source": [
    "# BOW representation of the dataset Using CountVectorizer from scikit-learn\n",
    "count_vectorizer = CountVectorizer(min_df=5)\n",
    "# min_df: ignore terms that have a document frequency strictly lower than the given threshold.\n",
    "\n",
    "# Learn the vocabulary dictionary and return document-term matrix\n",
    "bow_features = count_vectorizer.fit_transform(expanded_data_modified[\"processed_text\"]).todense() # todense() returns a matrix\n",
    "# create dataframe\n",
    "bow_features_df = pd.DataFrame(bow_features)\n",
    "bow_features_df.columns = count_vectorizer.get_feature_names_out() # Get output feature names for dataframe columns.\n",
    "bow_features_df[\"Article\"] = expanded_data_modified[\"Article\"]\n",
    "bow_features_df[\"Category\"] = expanded_data_modified[\"Category\"]\n",
    "display(bow_features_df.iloc[1])"
   ]
  },
  {
   "cell_type": "code",
   "execution_count": 72,
   "metadata": {},
   "outputs": [
    {
     "data": {
      "text/plain": [
       "Index(['00', '000', '01', '03', '04', '05', '06', '07', '10', '100',\n",
       "       ...\n",
       "       'zeppelin', 'zero', 'zhang', 'zimbabwe', 'zombie', 'zone', 'zoom',\n",
       "       'zurich', 'Article', 'Category'],\n",
       "      dtype='object', length=7141)"
      ]
     },
     "execution_count": 72,
     "metadata": {},
     "output_type": "execute_result"
    }
   ],
   "source": [
    "bow_features_df.columns"
   ]
  },
  {
   "cell_type": "markdown",
   "metadata": {},
   "source": [
    "### Tsne"
   ]
  },
  {
   "cell_type": "code",
   "execution_count": 73,
   "metadata": {},
   "outputs": [
    {
     "data": {
      "text/html": [
       "<div>\n",
       "<style scoped>\n",
       "    .dataframe tbody tr th:only-of-type {\n",
       "        vertical-align: middle;\n",
       "    }\n",
       "\n",
       "    .dataframe tbody tr th {\n",
       "        vertical-align: top;\n",
       "    }\n",
       "\n",
       "    .dataframe thead th {\n",
       "        text-align: right;\n",
       "    }\n",
       "</style>\n",
       "<table border=\"1\" class=\"dataframe\">\n",
       "  <thead>\n",
       "    <tr style=\"text-align: right;\">\n",
       "      <th></th>\n",
       "      <th>C1</th>\n",
       "      <th>C2</th>\n",
       "      <th>Article</th>\n",
       "      <th>Category</th>\n",
       "    </tr>\n",
       "  </thead>\n",
       "  <tbody>\n",
       "    <tr>\n",
       "      <th>0</th>\n",
       "      <td>16.488214</td>\n",
       "      <td>-2.319295</td>\n",
       "      <td>tv future in the hands of viewers with home th...</td>\n",
       "      <td>Technology</td>\n",
       "    </tr>\n",
       "    <tr>\n",
       "      <th>1</th>\n",
       "      <td>32.330704</td>\n",
       "      <td>-35.674927</td>\n",
       "      <td>worldcom boss  left books alone  former worldc...</td>\n",
       "      <td>Business</td>\n",
       "    </tr>\n",
       "    <tr>\n",
       "      <th>2</th>\n",
       "      <td>4.719190</td>\n",
       "      <td>-11.949823</td>\n",
       "      <td>tigers wary of farrell  gamble  leicester say ...</td>\n",
       "      <td>Sports</td>\n",
       "    </tr>\n",
       "    <tr>\n",
       "      <th>3</th>\n",
       "      <td>-16.068869</td>\n",
       "      <td>-31.726070</td>\n",
       "      <td>yeading face newcastle in fa cup premiership s...</td>\n",
       "      <td>Sports</td>\n",
       "    </tr>\n",
       "    <tr>\n",
       "      <th>4</th>\n",
       "      <td>-30.547495</td>\n",
       "      <td>-12.097587</td>\n",
       "      <td>ocean s twelve raids box office ocean s twelve...</td>\n",
       "      <td>Entertainment</td>\n",
       "    </tr>\n",
       "    <tr>\n",
       "      <th>...</th>\n",
       "      <td>...</td>\n",
       "      <td>...</td>\n",
       "      <td>...</td>\n",
       "      <td>...</td>\n",
       "    </tr>\n",
       "    <tr>\n",
       "      <th>2220</th>\n",
       "      <td>4.747673</td>\n",
       "      <td>28.761921</td>\n",
       "      <td>cars pull down us retail figures us retail sal...</td>\n",
       "      <td>Business</td>\n",
       "    </tr>\n",
       "    <tr>\n",
       "      <th>2221</th>\n",
       "      <td>22.785755</td>\n",
       "      <td>11.427149</td>\n",
       "      <td>kilroy unveils immigration policy ex-chatshow ...</td>\n",
       "      <td>Politics</td>\n",
       "    </tr>\n",
       "    <tr>\n",
       "      <th>2222</th>\n",
       "      <td>9.839749</td>\n",
       "      <td>-25.512192</td>\n",
       "      <td>rem announce new glasgow concert us band rem h...</td>\n",
       "      <td>Entertainment</td>\n",
       "    </tr>\n",
       "    <tr>\n",
       "      <th>2223</th>\n",
       "      <td>3.411580</td>\n",
       "      <td>-8.689172</td>\n",
       "      <td>how political squabbles snowball it is become ...</td>\n",
       "      <td>Politics</td>\n",
       "    </tr>\n",
       "    <tr>\n",
       "      <th>2224</th>\n",
       "      <td>-2.315162</td>\n",
       "      <td>-16.114321</td>\n",
       "      <td>souness delight at euro progress boss graeme s...</td>\n",
       "      <td>Sports</td>\n",
       "    </tr>\n",
       "  </tbody>\n",
       "</table>\n",
       "<p>2225 rows × 4 columns</p>\n",
       "</div>"
      ],
      "text/plain": [
       "             C1         C2                                            Article  \\\n",
       "0     16.488214  -2.319295  tv future in the hands of viewers with home th...   \n",
       "1     32.330704 -35.674927  worldcom boss  left books alone  former worldc...   \n",
       "2      4.719190 -11.949823  tigers wary of farrell  gamble  leicester say ...   \n",
       "3    -16.068869 -31.726070  yeading face newcastle in fa cup premiership s...   \n",
       "4    -30.547495 -12.097587  ocean s twelve raids box office ocean s twelve...   \n",
       "...         ...        ...                                                ...   \n",
       "2220   4.747673  28.761921  cars pull down us retail figures us retail sal...   \n",
       "2221  22.785755  11.427149  kilroy unveils immigration policy ex-chatshow ...   \n",
       "2222   9.839749 -25.512192  rem announce new glasgow concert us band rem h...   \n",
       "2223   3.411580  -8.689172  how political squabbles snowball it is become ...   \n",
       "2224  -2.315162 -16.114321  souness delight at euro progress boss graeme s...   \n",
       "\n",
       "           Category  \n",
       "0        Technology  \n",
       "1          Business  \n",
       "2            Sports  \n",
       "3            Sports  \n",
       "4     Entertainment  \n",
       "...             ...  \n",
       "2220       Business  \n",
       "2221       Politics  \n",
       "2222  Entertainment  \n",
       "2223       Politics  \n",
       "2224         Sports  \n",
       "\n",
       "[2225 rows x 4 columns]"
      ]
     },
     "metadata": {},
     "output_type": "display_data"
    }
   ],
   "source": [
    "# using t-sne to observe any trends, and clusters.\n",
    "tsne = TSNE(n_components=2) # n_components: estimated number of components\n",
    "tsne_bow_features = tsne.fit_transform(bow_features_df[count_vectorizer.get_feature_names_out()].values)\n",
    "tsne_bow_features_df = pd.DataFrame(tsne_bow_features)\n",
    "tsne_bow_features_df.columns = [\"C1\", \"C2\"]\n",
    "tsne_bow_features_df[\"Article\"] = bow_features_df[\"Article\"]\n",
    "tsne_bow_features_df[\"Category\"] = bow_features_df[\"Category\"]\n",
    "display(tsne_bow_features_df)"
   ]
  },
  {
   "cell_type": "code",
   "execution_count": null,
   "metadata": {},
   "outputs": [],
   "source": [
    "import plotly.express as px\n",
    "# scatter plot of t-sne for the BOW representation\n",
    "\n",
    "title = \"T-distributed Stochastic Neighbor Embedding for BOW document representation\"\n",
    "\n",
    "fig = px.scatter(tsne_bow_features_df, x=\"C1\", y=\"C2\", hover_data=['Article'], title=title)\n",
    "fig.show()"
   ]
  }
 ],
 "metadata": {
  "kernelspec": {
   "display_name": "news",
   "language": "python",
   "name": "python3"
  },
  "language_info": {
   "codemirror_mode": {
    "name": "ipython",
    "version": 3
   },
   "file_extension": ".py",
   "mimetype": "text/x-python",
   "name": "python",
   "nbconvert_exporter": "python",
   "pygments_lexer": "ipython3",
   "version": "3.12.0"
  }
 },
 "nbformat": 4,
 "nbformat_minor": 2
}
